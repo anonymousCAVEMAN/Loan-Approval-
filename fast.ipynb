{
 "cells": [
  {
   "cell_type": "code",
   "execution_count": 2,
   "metadata": {},
   "outputs": [],
   "source": [
    "from fastapi import FastAPI, HTTPException\n",
    "from pydantic import BaseModel\n",
    "import pickle\n",
    "import numpy as np\n",
    "\n",
    "# Define the input data schema\n",
    "class LoanApplication(BaseModel):\n",
    "    person_age: int\n",
    "    person_income: float\n",
    "    person_home_ownership: str\n",
    "    person_emp_length: float\n",
    "    loan_intent: str\n",
    "    loan_grade: str\n",
    "    loan_amnt: int\n",
    "    loan_int_rate: float\n",
    "    loan_percent_income: float\n",
    "    cb_person_default_on_file: str\n",
    "    cb_person_cred_hist_length: int\n",
    "\n",
    "\n",
    "# Mapping for categorical variables\n",
    "person_home_ownership_map = {\"RENT\": 2, \"OWN\": 3, \"MORTGAGE\": 0, \"OTHER\": 1}\n",
    "loan_grade_map = {\"A\": 0, \"B\": 1, \"C\": 2, \"D\": 3, \"E\": 4, \"F\": 5, \"G\": 6}\n",
    "loan_intent_map = {\n",
    "    \"DEBT CONSOLIDATION\": 0,\n",
    "    \"HOME IMPROVEMENT\": 1,\n",
    "    \"VENTURE\": 5,\n",
    "    \"PERSONAL\": 4,\n",
    "    \"MEDICAL\": 3,\n",
    "    \"EDUCATION\":1\n",
    "}\n",
    "default_on_file_map = {\"Yes\": 1, \"No\": 0}\n",
    "\n",
    "\n"
   ]
  },
  {
   "cell_type": "code",
   "execution_count": 3,
   "metadata": {},
   "outputs": [],
   "source": [
    "# Load the trained ML model\n",
    "def load_light_model():\n",
    "    try:\n",
    "        with open(\"reserch\\lightgbm_model.pkl\", \"rb\") as f:\n",
    "            return pickle.load(f)\n",
    "    except Exception as e:\n",
    "        raise RuntimeError(f\"Error loading model: {e}\")\n",
    "\n",
    "def load_cat_model():\n",
    "    try:\n",
    "        with open(\"CB_classifier.pkl\",'rb') as f:\n",
    "            return pickle.load(f)\n",
    "    except Exception as e:\n",
    "        raise RuntimeError(f\"Error loading model : {e}\")"
   ]
  },
  {
   "cell_type": "code",
   "execution_count": 4,
   "metadata": {},
   "outputs": [],
   "source": [
    "# Make prediction\n",
    "def make_prediction(model, input_data):\n",
    "    try:\n",
    "        prediction = model.predict(input_data)\n",
    "        return prediction\n",
    "    except Exception as e:\n",
    "        raise HTTPException(status_code=500, detail=f\"Error making prediction: {e}\")\n",
    "def make_proba(model,input_data):\n",
    "    try:\n",
    "        prediction = model.predict_proba(input_data)\n",
    "        return prediction\n",
    "    except Exception as e:\n",
    "        raise HTTPException(status_code=500, detail=f\"Error making prediction: {e}\")\n"
   ]
  },
  {
   "cell_type": "code",
   "execution_count": 5,
   "metadata": {},
   "outputs": [],
   "source": [
    "data_dict = {\n",
    "  \"person_age\": 25,\n",
    "  \"person_income\": 10000,\n",
    "  \"person_home_ownership\": \"Own\",\n",
    "  \"person_emp_length\": 12,\n",
    "  \"loan_intent\": \"HOME IMPROVEMENT\",\n",
    "  \"loan_grade\": \"D\",\n",
    "  \"loan_amnt\": 1500,\n",
    "  \"loan_int_rate\": 5.6,\n",
    "  \"loan_percent_income\": 0.067,\n",
    "  \"cb_person_default_on_file\": \"No\",\n",
    "  \"cb_person_cred_hist_length\": 12\n",
    "}\n",
    "\n",
    "data_dict_2 = {\n",
    "      \"person_age\": 25,\n",
    "  \"person_income\": 25000,\n",
    "  \"person_home_ownership\": \"RENT\",\n",
    "  \"person_emp_length\": 3.0,\n",
    "  \"loan_intent\": \"VENTURE\",\n",
    "  \"loan_grade\": \"C\",\n",
    "  \"loan_amnt\": 3500,\n",
    "  \"loan_int_rate\": 13.49,\n",
    "  \"loan_percent_income\": 0.14,\n",
    "  \"cb_person_default_on_file\": \"Yes\",\n",
    "  \"cb_person_cred_hist_length\": 3\n",
    "}\n",
    "# 25,25,25000,RENT,3.0,VENTURE,C,3500,13.49,0.14,Y,3,1"
   ]
  },
  {
   "cell_type": "code",
   "execution_count": 6,
   "metadata": {},
   "outputs": [],
   "source": [
    "def preprocess_data_1(data: dict):\n",
    "    input_data = np.array([\n",
    "        data[\"person_age\"],\n",
    "        data[\"person_income\"],\n",
    "        person_home_ownership_map[data[\"person_home_ownership\"]],\n",
    "        data[\"person_emp_length\"],\n",
    "        loan_grade_map[data[\"loan_grade\"]],\n",
    "        loan_intent_map[data[\"loan_intent\"]],\n",
    "        data[\"loan_amnt\"],\n",
    "        data[\"loan_int_rate\"],\n",
    "        data[\"loan_percent_income\"],\n",
    "        default_on_file_map[data[\"cb_person_default_on_file\"]],\n",
    "        data[\"cb_person_cred_hist_length\"]\n",
    "    ]).reshape(1, -1)\n",
    "    return input_data"
   ]
  },
  {
   "cell_type": "code",
   "execution_count": 7,
   "metadata": {},
   "outputs": [
    {
     "data": {
      "text/plain": [
       "array([[2.500e+01, 2.500e+04, 2.000e+00, 3.000e+00, 2.000e+00, 5.000e+00,\n",
       "        3.500e+03, 1.349e+01, 1.400e-01, 1.000e+00, 3.000e+00]])"
      ]
     },
     "execution_count": 7,
     "metadata": {},
     "output_type": "execute_result"
    }
   ],
   "source": [
    "preprocess_data_1(data_dict_2)"
   ]
  },
  {
   "cell_type": "code",
   "execution_count": 8,
   "metadata": {},
   "outputs": [
    {
     "name": "stdout",
     "output_type": "stream",
     "text": [
      "[[2.500e+01 2.500e+04 2.000e+00 3.000e+00 2.000e+00 5.000e+00 3.500e+03\n",
      "  1.349e+01 1.400e-01 1.000e+00 3.000e+00]]\n"
     ]
    }
   ],
   "source": [
    "model = load_cat_model()\n",
    "input_data = preprocess_data_1(data_dict_2)\n",
    "print(input_data)\n"
   ]
  },
  {
   "cell_type": "code",
   "execution_count": 19,
   "metadata": {},
   "outputs": [
    {
     "name": "stdout",
     "output_type": "stream",
     "text": [
      "[[2.500e+01 2.500e+04 2.000e+00 3.000e+00 2.000e+00 5.000e+00 3.500e+03\n",
      "  1.349e+01 1.400e-01 1.000e+00 3.000e+00]]\n",
      "[[0.27242508 0.72757492]]\n",
      "[1]\n"
     ]
    }
   ],
   "source": [
    "# input_dataa = np.array([22,30000,2,3.0,3,3,5000,16.49,0.17,0,4,1]).reshape(1,-1)\n",
    "input_dataa = np.array([22,30000,\"RENT\",3.0,\"MEDICAL\",\"D\",5000,16.49,0.17,\"N\",4]).reshape(1,-1)\n",
    "print(input_data)\n",
    "output = make_prediction(model,input_dataa)\n",
    "op = make_proba(model,input_dataa)\n",
    "print(op)\n",
    "print(output)"
   ]
  },
  {
   "cell_type": "markdown",
   "metadata": {},
   "source": [
    "got it yahi karna hai bas done uper we got zero"
   ]
  },
  {
   "cell_type": "code",
   "execution_count": 10,
   "metadata": {},
   "outputs": [
    {
     "name": "stdout",
     "output_type": "stream",
     "text": [
      "[[0.98037668 0.01962332]]\n",
      "[0]\n"
     ]
    }
   ],
   "source": [
    "input_dataa = np.array([27,100000,'RENT',1.0,'HOMEIMPROVEMENT','C',5000,13.57,0.05,'Y',7]).reshape(1,-1)\n",
    "output = make_prediction(model,input_dataa)\n",
    "op = make_proba(model,input_dataa)\n",
    "print(op)\n",
    "print(output)"
   ]
  },
  {
   "cell_type": "code",
   "execution_count": 18,
   "metadata": {},
   "outputs": [
    {
     "name": "stdout",
     "output_type": "stream",
     "text": [
      "[[0.98037668 0.01962332]]\n",
      "[0]\n"
     ]
    }
   ],
   "source": [
    "data_dict_3 = {\"person_age\":25,\"person_income\":25000,\"person_home_ownership\":\"RENT\",\"person_emp_length\":3,\"loan_intent\":\"VENTURE\",\"loan_grade\":\"C\",\"loan_amnt\":3500,\"loan_int_rate\":13.49,\"loan_percent_income\":0.071,\"cb_person_default_on_file\":\"Yes\",\"cb_person_cred_hist_length\":3}\n",
    "\n",
    "preprocess_data_1(data_dict_3)\n",
    "output = make_prediction(model,input_dataa)\n",
    "op = make_proba(model,input_dataa)\n",
    "print(op)\n",
    "print(output)"
   ]
  },
  {
   "cell_type": "code",
   "execution_count": null,
   "metadata": {},
   "outputs": [],
   "source": [
    "# Initialize FastAPI app\n",
    "app = FastAPI()\n",
    "model = load_cat_model()\n",
    "\n",
    "@app.post(\"/predict\")\n",
    "async def predict_loan_application(data):\n",
    "    input_data = preprocess_data_1(data)\n",
    "    output = make_prediction(model, input_data)\n",
    "    return {\"classification_result\": output}"
   ]
  },
  {
   "cell_type": "code",
   "execution_count": null,
   "metadata": {},
   "outputs": [],
   "source": []
  }
 ],
 "metadata": {
  "kernelspec": {
   "display_name": "Python 3",
   "language": "python",
   "name": "python3"
  },
  "language_info": {
   "codemirror_mode": {
    "name": "ipython",
    "version": 3
   },
   "file_extension": ".py",
   "mimetype": "text/x-python",
   "name": "python",
   "nbconvert_exporter": "python",
   "pygments_lexer": "ipython3",
   "version": "3.10.10"
  }
 },
 "nbformat": 4,
 "nbformat_minor": 2
}

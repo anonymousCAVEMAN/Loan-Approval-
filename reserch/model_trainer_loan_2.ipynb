{
 "cells": [
  {
   "cell_type": "code",
   "execution_count": 1,
   "metadata": {
    "id": "DSLHDOhQx5vA"
   },
   "outputs": [],
   "source": [
    "import pandas as pd\n"
   ]
  },
  {
   "cell_type": "code",
   "execution_count": 2,
   "metadata": {
    "id": "HW4skxXTyMiL"
   },
   "outputs": [],
   "source": [
    "test = pd.read_csv('E:\\\\python\\\\2.PROJECTS\\\\loan\\\\data\\\\test.csv')\n",
    "train = pd.read_csv('E:\\\\python\\\\2.PROJECTS\\\\loan\\\\data\\\\train.csv')"
   ]
  },
  {
   "cell_type": "code",
   "execution_count": 3,
   "metadata": {},
   "outputs": [
    {
     "data": {
      "text/html": [
       "<div>\n",
       "<style scoped>\n",
       "    .dataframe tbody tr th:only-of-type {\n",
       "        vertical-align: middle;\n",
       "    }\n",
       "\n",
       "    .dataframe tbody tr th {\n",
       "        vertical-align: top;\n",
       "    }\n",
       "\n",
       "    .dataframe thead th {\n",
       "        text-align: right;\n",
       "    }\n",
       "</style>\n",
       "<table border=\"1\" class=\"dataframe\">\n",
       "  <thead>\n",
       "    <tr style=\"text-align: right;\">\n",
       "      <th></th>\n",
       "      <th>id</th>\n",
       "      <th>person_age</th>\n",
       "      <th>person_income</th>\n",
       "      <th>person_home_ownership</th>\n",
       "      <th>person_emp_length</th>\n",
       "      <th>loan_intent</th>\n",
       "      <th>loan_grade</th>\n",
       "      <th>loan_amnt</th>\n",
       "      <th>loan_int_rate</th>\n",
       "      <th>loan_percent_income</th>\n",
       "      <th>cb_person_default_on_file</th>\n",
       "      <th>cb_person_cred_hist_length</th>\n",
       "      <th>loan_status</th>\n",
       "    </tr>\n",
       "  </thead>\n",
       "  <tbody>\n",
       "    <tr>\n",
       "      <th>0</th>\n",
       "      <td>0</td>\n",
       "      <td>37</td>\n",
       "      <td>35000</td>\n",
       "      <td>RENT</td>\n",
       "      <td>0.0</td>\n",
       "      <td>EDUCATION</td>\n",
       "      <td>B</td>\n",
       "      <td>6000</td>\n",
       "      <td>11.49</td>\n",
       "      <td>0.17</td>\n",
       "      <td>N</td>\n",
       "      <td>14</td>\n",
       "      <td>0</td>\n",
       "    </tr>\n",
       "    <tr>\n",
       "      <th>1</th>\n",
       "      <td>1</td>\n",
       "      <td>22</td>\n",
       "      <td>56000</td>\n",
       "      <td>OWN</td>\n",
       "      <td>6.0</td>\n",
       "      <td>MEDICAL</td>\n",
       "      <td>C</td>\n",
       "      <td>4000</td>\n",
       "      <td>13.35</td>\n",
       "      <td>0.07</td>\n",
       "      <td>N</td>\n",
       "      <td>2</td>\n",
       "      <td>0</td>\n",
       "    </tr>\n",
       "    <tr>\n",
       "      <th>2</th>\n",
       "      <td>2</td>\n",
       "      <td>29</td>\n",
       "      <td>28800</td>\n",
       "      <td>OWN</td>\n",
       "      <td>8.0</td>\n",
       "      <td>PERSONAL</td>\n",
       "      <td>A</td>\n",
       "      <td>6000</td>\n",
       "      <td>8.90</td>\n",
       "      <td>0.21</td>\n",
       "      <td>N</td>\n",
       "      <td>10</td>\n",
       "      <td>0</td>\n",
       "    </tr>\n",
       "    <tr>\n",
       "      <th>3</th>\n",
       "      <td>3</td>\n",
       "      <td>30</td>\n",
       "      <td>70000</td>\n",
       "      <td>RENT</td>\n",
       "      <td>14.0</td>\n",
       "      <td>VENTURE</td>\n",
       "      <td>B</td>\n",
       "      <td>12000</td>\n",
       "      <td>11.11</td>\n",
       "      <td>0.17</td>\n",
       "      <td>N</td>\n",
       "      <td>5</td>\n",
       "      <td>0</td>\n",
       "    </tr>\n",
       "    <tr>\n",
       "      <th>4</th>\n",
       "      <td>4</td>\n",
       "      <td>22</td>\n",
       "      <td>60000</td>\n",
       "      <td>RENT</td>\n",
       "      <td>2.0</td>\n",
       "      <td>MEDICAL</td>\n",
       "      <td>A</td>\n",
       "      <td>6000</td>\n",
       "      <td>6.92</td>\n",
       "      <td>0.10</td>\n",
       "      <td>N</td>\n",
       "      <td>3</td>\n",
       "      <td>0</td>\n",
       "    </tr>\n",
       "  </tbody>\n",
       "</table>\n",
       "</div>"
      ],
      "text/plain": [
       "   id  person_age  person_income person_home_ownership  person_emp_length  \\\n",
       "0   0          37          35000                  RENT                0.0   \n",
       "1   1          22          56000                   OWN                6.0   \n",
       "2   2          29          28800                   OWN                8.0   \n",
       "3   3          30          70000                  RENT               14.0   \n",
       "4   4          22          60000                  RENT                2.0   \n",
       "\n",
       "  loan_intent loan_grade  loan_amnt  loan_int_rate  loan_percent_income  \\\n",
       "0   EDUCATION          B       6000          11.49                 0.17   \n",
       "1     MEDICAL          C       4000          13.35                 0.07   \n",
       "2    PERSONAL          A       6000           8.90                 0.21   \n",
       "3     VENTURE          B      12000          11.11                 0.17   \n",
       "4     MEDICAL          A       6000           6.92                 0.10   \n",
       "\n",
       "  cb_person_default_on_file  cb_person_cred_hist_length  loan_status  \n",
       "0                         N                          14            0  \n",
       "1                         N                           2            0  \n",
       "2                         N                          10            0  \n",
       "3                         N                           5            0  \n",
       "4                         N                           3            0  "
      ]
     },
     "execution_count": 3,
     "metadata": {},
     "output_type": "execute_result"
    }
   ],
   "source": [
    "train.head()"
   ]
  },
  {
   "cell_type": "code",
   "execution_count": 4,
   "metadata": {},
   "outputs": [
    {
     "data": {
      "text/plain": [
       "(58645, 13)"
      ]
     },
     "execution_count": 4,
     "metadata": {},
     "output_type": "execute_result"
    }
   ],
   "source": [
    "train.shape"
   ]
  },
  {
   "cell_type": "code",
   "execution_count": 5,
   "metadata": {},
   "outputs": [],
   "source": [
    "train_df = train.copy()\n",
    "test_df = test.copy()"
   ]
  },
  {
   "cell_type": "code",
   "execution_count": 6,
   "metadata": {
    "id": "kUPWLbOrDRCb"
   },
   "outputs": [],
   "source": [
    "train_df.drop('id',axis=1,inplace=True)\n",
    "test_df.drop('id',axis=1,inplace=True)"
   ]
  },
  {
   "cell_type": "code",
   "execution_count": 7,
   "metadata": {
    "id": "_vTWfndbyUVc"
   },
   "outputs": [],
   "source": [
    "cat_cols = train_df.select_dtypes(include=['object']).columns"
   ]
  },
  {
   "cell_type": "code",
   "execution_count": 8,
   "metadata": {
    "colab": {
     "base_uri": "https://localhost:8080/"
    },
    "id": "RKLLoVkDy7Ef",
    "outputId": "83d50270-44ea-4c25-da48-e8e4d93d78e6"
   },
   "outputs": [
    {
     "data": {
      "text/plain": [
       "Index(['person_home_ownership', 'loan_intent', 'loan_grade',\n",
       "       'cb_person_default_on_file'],\n",
       "      dtype='object')"
      ]
     },
     "execution_count": 8,
     "metadata": {},
     "output_type": "execute_result"
    }
   ],
   "source": [
    "cat_cols"
   ]
  },
  {
   "cell_type": "code",
   "execution_count": 9,
   "metadata": {
    "colab": {
     "base_uri": "https://localhost:8080/"
    },
    "id": "o6DxfS95zI5e",
    "outputId": "4b75b449-6a03-4157-95fa-1f65d1994583"
   },
   "outputs": [
    {
     "name": "stdout",
     "output_type": "stream",
     "text": [
      "person_home_ownership\n",
      "RENT        30594\n",
      "MORTGAGE    24824\n",
      "OWN          3138\n",
      "OTHER          89\n",
      "Name: count, dtype: int64\n",
      "loan_intent\n",
      "EDUCATION            12271\n",
      "MEDICAL              10934\n",
      "PERSONAL             10016\n",
      "VENTURE              10011\n",
      "DEBTCONSOLIDATION     9133\n",
      "HOMEIMPROVEMENT       6280\n",
      "Name: count, dtype: int64\n",
      "loan_grade\n",
      "A    20984\n",
      "B    20400\n",
      "C    11036\n",
      "D     5034\n",
      "E     1009\n",
      "F      149\n",
      "G       33\n",
      "Name: count, dtype: int64\n",
      "cb_person_default_on_file\n",
      "N    49943\n",
      "Y     8702\n",
      "Name: count, dtype: int64\n"
     ]
    }
   ],
   "source": [
    "for col in cat_cols:\n",
    "  print(train_df[col].value_counts())"
   ]
  },
  {
   "cell_type": "code",
   "execution_count": 10,
   "metadata": {
    "colab": {
     "base_uri": "https://localhost:8080/"
    },
    "id": "fQLdTDH0zpit",
    "outputId": "4ab8a0d9-c288-4891-ab7f-0d48b20f95dc"
   },
   "outputs": [
    {
     "name": "stdout",
     "output_type": "stream",
     "text": [
      "person_home_ownership\n",
      "RENT        20280\n",
      "MORTGAGE    16683\n",
      "OWN          2056\n",
      "OTHER          79\n",
      "Name: count, dtype: int64\n",
      "loan_intent\n",
      "EDUCATION            8076\n",
      "MEDICAL              7447\n",
      "PERSONAL             6815\n",
      "VENTURE              6632\n",
      "DEBTCONSOLIDATION    5915\n",
      "HOMEIMPROVEMENT      4213\n",
      "Name: count, dtype: int64\n",
      "loan_grade\n",
      "A    14005\n",
      "B    13604\n",
      "C     7460\n",
      "D     3269\n",
      "E      637\n",
      "F      105\n",
      "G       18\n",
      "Name: count, dtype: int64\n",
      "cb_person_default_on_file\n",
      "N    33227\n",
      "Y     5871\n",
      "Name: count, dtype: int64\n"
     ]
    }
   ],
   "source": [
    "for col in cat_cols:\n",
    "  print(test_df[col].value_counts())"
   ]
  },
  {
   "cell_type": "code",
   "execution_count": 11,
   "metadata": {
    "id": "v5V1tS4kya_f"
   },
   "outputs": [],
   "source": [
    "from sklearn.preprocessing import LabelEncoder\n",
    "le = LabelEncoder()\n",
    "for cols in cat_cols:\n",
    "  train_df[cols] = le.fit_transform(train_df[cols])\n",
    "  test_df[cols] = le.transform(test_df[cols])"
   ]
  },
  {
   "cell_type": "code",
   "execution_count": 12,
   "metadata": {
    "colab": {
     "base_uri": "https://localhost:8080/",
     "height": 226
    },
    "id": "2nygbY-V0Yqz",
    "outputId": "5c14f976-25e9-41d2-f4ae-6b03bad0edb0"
   },
   "outputs": [
    {
     "data": {
      "text/html": [
       "<div>\n",
       "<style scoped>\n",
       "    .dataframe tbody tr th:only-of-type {\n",
       "        vertical-align: middle;\n",
       "    }\n",
       "\n",
       "    .dataframe tbody tr th {\n",
       "        vertical-align: top;\n",
       "    }\n",
       "\n",
       "    .dataframe thead th {\n",
       "        text-align: right;\n",
       "    }\n",
       "</style>\n",
       "<table border=\"1\" class=\"dataframe\">\n",
       "  <thead>\n",
       "    <tr style=\"text-align: right;\">\n",
       "      <th></th>\n",
       "      <th>person_age</th>\n",
       "      <th>person_income</th>\n",
       "      <th>person_home_ownership</th>\n",
       "      <th>person_emp_length</th>\n",
       "      <th>loan_intent</th>\n",
       "      <th>loan_grade</th>\n",
       "      <th>loan_amnt</th>\n",
       "      <th>loan_int_rate</th>\n",
       "      <th>loan_percent_income</th>\n",
       "      <th>cb_person_default_on_file</th>\n",
       "      <th>cb_person_cred_hist_length</th>\n",
       "      <th>loan_status</th>\n",
       "    </tr>\n",
       "  </thead>\n",
       "  <tbody>\n",
       "    <tr>\n",
       "      <th>0</th>\n",
       "      <td>37</td>\n",
       "      <td>35000</td>\n",
       "      <td>3</td>\n",
       "      <td>0.0</td>\n",
       "      <td>1</td>\n",
       "      <td>1</td>\n",
       "      <td>6000</td>\n",
       "      <td>11.49</td>\n",
       "      <td>0.17</td>\n",
       "      <td>0</td>\n",
       "      <td>14</td>\n",
       "      <td>0</td>\n",
       "    </tr>\n",
       "    <tr>\n",
       "      <th>1</th>\n",
       "      <td>22</td>\n",
       "      <td>56000</td>\n",
       "      <td>2</td>\n",
       "      <td>6.0</td>\n",
       "      <td>3</td>\n",
       "      <td>2</td>\n",
       "      <td>4000</td>\n",
       "      <td>13.35</td>\n",
       "      <td>0.07</td>\n",
       "      <td>0</td>\n",
       "      <td>2</td>\n",
       "      <td>0</td>\n",
       "    </tr>\n",
       "    <tr>\n",
       "      <th>2</th>\n",
       "      <td>29</td>\n",
       "      <td>28800</td>\n",
       "      <td>2</td>\n",
       "      <td>8.0</td>\n",
       "      <td>4</td>\n",
       "      <td>0</td>\n",
       "      <td>6000</td>\n",
       "      <td>8.90</td>\n",
       "      <td>0.21</td>\n",
       "      <td>0</td>\n",
       "      <td>10</td>\n",
       "      <td>0</td>\n",
       "    </tr>\n",
       "    <tr>\n",
       "      <th>3</th>\n",
       "      <td>30</td>\n",
       "      <td>70000</td>\n",
       "      <td>3</td>\n",
       "      <td>14.0</td>\n",
       "      <td>5</td>\n",
       "      <td>1</td>\n",
       "      <td>12000</td>\n",
       "      <td>11.11</td>\n",
       "      <td>0.17</td>\n",
       "      <td>0</td>\n",
       "      <td>5</td>\n",
       "      <td>0</td>\n",
       "    </tr>\n",
       "    <tr>\n",
       "      <th>4</th>\n",
       "      <td>22</td>\n",
       "      <td>60000</td>\n",
       "      <td>3</td>\n",
       "      <td>2.0</td>\n",
       "      <td>3</td>\n",
       "      <td>0</td>\n",
       "      <td>6000</td>\n",
       "      <td>6.92</td>\n",
       "      <td>0.10</td>\n",
       "      <td>0</td>\n",
       "      <td>3</td>\n",
       "      <td>0</td>\n",
       "    </tr>\n",
       "  </tbody>\n",
       "</table>\n",
       "</div>"
      ],
      "text/plain": [
       "   person_age  person_income  person_home_ownership  person_emp_length  \\\n",
       "0          37          35000                      3                0.0   \n",
       "1          22          56000                      2                6.0   \n",
       "2          29          28800                      2                8.0   \n",
       "3          30          70000                      3               14.0   \n",
       "4          22          60000                      3                2.0   \n",
       "\n",
       "   loan_intent  loan_grade  loan_amnt  loan_int_rate  loan_percent_income  \\\n",
       "0            1           1       6000          11.49                 0.17   \n",
       "1            3           2       4000          13.35                 0.07   \n",
       "2            4           0       6000           8.90                 0.21   \n",
       "3            5           1      12000          11.11                 0.17   \n",
       "4            3           0       6000           6.92                 0.10   \n",
       "\n",
       "   cb_person_default_on_file  cb_person_cred_hist_length  loan_status  \n",
       "0                          0                          14            0  \n",
       "1                          0                           2            0  \n",
       "2                          0                          10            0  \n",
       "3                          0                           5            0  \n",
       "4                          0                           3            0  "
      ]
     },
     "execution_count": 12,
     "metadata": {},
     "output_type": "execute_result"
    }
   ],
   "source": [
    "train_df.head()"
   ]
  },
  {
   "cell_type": "code",
   "execution_count": 13,
   "metadata": {
    "id": "J-YPSKSZ0fiJ"
   },
   "outputs": [],
   "source": [
    "import seaborn as sns\n",
    "import matplotlib.pyplot as plt"
   ]
  },
  {
   "cell_type": "code",
   "execution_count": 12,
   "metadata": {
    "colab": {
     "base_uri": "https://localhost:8080/",
     "height": 1000
    },
    "id": "8LPllml-0kVP",
    "outputId": "21eab137-c231-40d7-aaa0-1d0e651da99a"
   },
   "outputs": [
    {
     "data": {
      "text/plain": [
       "<Axes: >"
      ]
     },
     "execution_count": 12,
     "metadata": {},
     "output_type": "execute_result"
    },
    {
     "data": {
      "image/png": "[encoded data removed]",
      "text/plain": [
       "<Figure size 1000x1000 with 1 Axes>"
      ]
     },
     "metadata": {},
     "output_type": "display_data"
    }
   ],
   "source": [
    "plt.figure(figsize=(10,10))\n",
    "sns.heatmap(train_df.corr(),annot=True,cbar=False)"
   ]
  },
  {
   "cell_type": "code",
   "execution_count": 14,
   "metadata": {
    "colab": {
     "base_uri": "https://localhost:8080/"
    },
    "id": "Iz7dxni70nW9",
    "outputId": "d56e5aae-66ff-40a6-f9e0-475c0d87196e"
   },
   "outputs": [
    {
     "data": {
      "text/plain": [
       "(58645, 12)"
      ]
     },
     "execution_count": 14,
     "metadata": {},
     "output_type": "execute_result"
    }
   ],
   "source": [
    "train_df.shape"
   ]
  },
  {
   "cell_type": "code",
   "execution_count": 15,
   "metadata": {
    "id": "-Fq2wQ0hAwY2"
   },
   "outputs": [],
   "source": [
    "X=train_df.drop('loan_status',axis=1)\n",
    "y=train_df['loan_status']"
   ]
  },
  {
   "cell_type": "code",
   "execution_count": 16,
   "metadata": {
    "colab": {
     "base_uri": "https://localhost:8080/"
    },
    "id": "AK-ojTnKARHm",
    "outputId": "7ef12d47-d273-4341-c14b-797787c0c4cb"
   },
   "outputs": [],
   "source": [
    "from sklearn.ensemble import RandomForestClassifier\n",
    "from sklearn.model_selection import StratifiedKFold\n"
   ]
  },
  {
   "cell_type": "code",
   "execution_count": 17,
   "metadata": {
    "id": "OMY_tGh4ArxP"
   },
   "outputs": [],
   "source": [
    "skf = StratifiedKFold(n_splits=5,shuffle=True,random_state=42)"
   ]
  },
  {
   "cell_type": "code",
   "execution_count": 18,
   "metadata": {
    "id": "yzd19FErHagC"
   },
   "outputs": [],
   "source": [
    "skf = StratifiedKFold(n_splits=5, shuffle=True, random_state=42)\n",
    "for fold, (train_idx, val_idx) in enumerate(skf.split(X, y)):\n",
    "    X_train, X_val = X.iloc[train_idx], X.iloc[val_idx]\n",
    "    y_train, y_val = y.iloc[train_idx], y.iloc[val_idx]"
   ]
  },
  {
   "cell_type": "code",
   "execution_count": 18,
   "metadata": {
    "id": "vkO0PIxVHrti"
   },
   "outputs": [],
   "source": [
    "import numpy as np\n",
    "from sklearn.model_selection import RandomizedSearchCV"
   ]
  },
  {
   "cell_type": "code",
   "execution_count": null,
   "metadata": {
    "id": "ckGZf6xQIBJa"
   },
   "outputs": [],
   "source": [
    "# Number of trees in random forest\n",
    "n_estimators = [int(x) for x in np.linspace(start = 100, stop = 1200, num = 12)]\n",
    "\n",
    "# Number of features to consider at every split\n",
    "max_features = ['auto', 'sqrt']\n",
    "\n",
    "# Maximum number of levels in tree\n",
    "max_depth = [int(x) for x in np.linspace(5, 30, num = 6)]\n",
    "\n",
    "# max_depth.append(None)\n",
    "# Minimum number of samples required to split a node\n",
    "min_samples_split = [2, 5, 10, 15, 100]\n",
    "\n",
    "# Minimum number of samples required at each leaf node\n",
    "min_samples_leaf = [1, 2, 5, 10]\n",
    "\n",
    "scoring_metrics = ['accuracy', 'f1_macro', 'precision', 'recall', 'roc_auc']\n",
    "\n",
    "random_grid = {'n_estimators': n_estimators,\n",
    "               'max_features': max_features,\n",
    "               'max_depth': max_depth,\n",
    "               'min_samples_split': min_samples_split,\n",
    "               'min_samples_leaf': min_samples_leaf}"
   ]
  },
  {
   "cell_type": "code",
   "execution_count": 19,
   "metadata": {
    "id": "TAQR631AIMGw"
   },
   "outputs": [],
   "source": [
    "rf = RandomForestClassifier(n_estimators= 900,min_samples_split= 5,min_samples_leaf= 5,max_features= 'sqrt',max_depth= 10)"
   ]
  },
  {
   "cell_type": "code",
   "execution_count": null,
   "metadata": {
    "id": "Goe4qngoIOHY"
   },
   "outputs": [],
   "source": [
    "# rf_random = RandomizedSearchCV(estimator = rf, param_distributions = random_grid,scoring=scoring_metrics,\n",
    "#                                 n_iter = 10, cv = 5, verbose=2, random_state=42, n_jobs = 1,refit='accuracy')"
   ]
  },
  {
   "cell_type": "code",
   "execution_count": 20,
   "metadata": {
    "colab": {
     "base_uri": "https://localhost:8080/",
     "height": 98
    },
    "id": "SODMvr2HIcAX",
    "outputId": "89a8f68a-20ed-4cd7-c70a-00027ddb1b45"
   },
   "outputs": [
    {
     "data": {
      "text/html": [
       "<style>#sk-container-id-1 {\n",
       "  /* Definition of color scheme common for light and dark mode */\n",
       "  --sklearn-color-text: black;\n",
       "  --sklearn-color-line: gray;\n",
       "  /* Definition of color scheme for unfitted estimators */\n",
       "  --sklearn-color-unfitted-level-0: #fff5e6;\n",
       "  --sklearn-color-unfitted-level-1: #f6e4d2;\n",
       "  --sklearn-color-unfitted-level-2: #ffe0b3;\n",
       "  --sklearn-color-unfitted-level-3: chocolate;\n",
       "  /* Definition of color scheme for fitted estimators */\n",
       "  --sklearn-color-fitted-level-0: #f0f8ff;\n",
       "  --sklearn-color-fitted-level-1: #d4ebff;\n",
       "  --sklearn-color-fitted-level-2: #b3dbfd;\n",
       "  --sklearn-color-fitted-level-3: cornflowerblue;\n",
       "\n",
       "  /* Specific color for light theme */\n",
       "  --sklearn-color-text-on-default-background: var(--sg-text-color, var(--theme-code-foreground, var(--jp-content-font-color1, black)));\n",
       "  --sklearn-color-background: var(--sg-background-color, var(--theme-background, var(--jp-layout-color0, white)));\n",
       "  --sklearn-color-border-box: var(--sg-text-color, var(--theme-code-foreground, var(--jp-content-font-color1, black)));\n",
       "  --sklearn-color-icon: #696969;\n",
       "\n",
       "  @media (prefers-color-scheme: dark) {\n",
       "    /* Redefinition of color scheme for dark theme */\n",
       "    --sklearn-color-text-on-default-background: var(--sg-text-color, var(--theme-code-foreground, var(--jp-content-font-color1, white)));\n",
       "    --sklearn-color-background: var(--sg-background-color, var(--theme-background, var(--jp-layout-color0, #111)));\n",
       "    --sklearn-color-border-box: var(--sg-text-color, var(--theme-code-foreground, var(--jp-content-font-color1, white)));\n",
       "    --sklearn-color-icon: #878787;\n",
       "  }\n",
       "}\n",
       "\n",
       "#sk-container-id-1 {\n",
       "  color: var(--sklearn-color-text);\n",
       "}\n",
       "\n",
       "#sk-container-id-1 pre {\n",
       "  padding: 0;\n",
       "}\n",
       "\n",
       "#sk-container-id-1 input.sk-hidden--visually {\n",
       "  border: 0;\n",
       "  clip: rect(1px 1px 1px 1px);\n",
       "  clip: rect(1px, 1px, 1px, 1px);\n",
       "  height: 1px;\n",
       "  margin: -1px;\n",
       "  overflow: hidden;\n",
       "  padding: 0;\n",
       "  position: absolute;\n",
       "  width: 1px;\n",
       "}\n",
       "\n",
       "#sk-container-id-1 div.sk-dashed-wrapped {\n",
       "  border: 1px dashed var(--sklearn-color-line);\n",
       "  margin: 0 0.4em 0.5em 0.4em;\n",
       "  box-sizing: border-box;\n",
       "  padding-bottom: 0.4em;\n",
       "  background-color: var(--sklearn-color-background);\n",
       "}\n",
       "\n",
       "#sk-container-id-1 div.sk-container {\n",
       "  /* jupyter's `normalize.less` sets `[hidden] { display: none; }`\n",
       "     but bootstrap.min.css set `[hidden] { display: none !important; }`\n",
       "     so we also need the `!important` here to be able to override the\n",
       "     default hidden behavior on the sphinx rendered scikit-learn.org.\n",
       "     See: https://github.com/scikit-learn/scikit-learn/issues/21755 */\n",
       "  display: inline-block !important;\n",
       "  position: relative;\n",
       "}\n",
       "\n",
       "#sk-container-id-1 div.sk-text-repr-fallback {\n",
       "  display: none;\n",
       "}\n",
       "\n",
       "div.sk-parallel-item,\n",
       "div.sk-serial,\n",
       "div.sk-item {\n",
       "  /* draw centered vertical line to link estimators */\n",
       "  background-image: linear-gradient(var(--sklearn-color-text-on-default-background), var(--sklearn-color-text-on-default-background));\n",
       "  background-size: 2px 100%;\n",
       "  background-repeat: no-repeat;\n",
       "  background-position: center center;\n",
       "}\n",
       "\n",
       "/* Parallel-specific style estimator block */\n",
       "\n",
       "#sk-container-id-1 div.sk-parallel-item::after {\n",
       "  content: \"\";\n",
       "  width: 100%;\n",
       "  border-bottom: 2px solid var(--sklearn-color-text-on-default-background);\n",
       "  flex-grow: 1;\n",
       "}\n",
       "\n",
       "#sk-container-id-1 div.sk-parallel {\n",
       "  display: flex;\n",
       "  align-items: stretch;\n",
       "  justify-content: center;\n",
       "  background-color: var(--sklearn-color-background);\n",
       "  position: relative;\n",
       "}\n",
       "\n",
       "#sk-container-id-1 div.sk-parallel-item {\n",
       "  display: flex;\n",
       "  flex-direction: column;\n",
       "}\n",
       "\n",
       "#sk-container-id-1 div.sk-parallel-item:first-child::after {\n",
       "  align-self: flex-end;\n",
       "  width: 50%;\n",
       "}\n",
       "\n",
       "#sk-container-id-1 div.sk-parallel-item:last-child::after {\n",
       "  align-self: flex-start;\n",
       "  width: 50%;\n",
       "}\n",
       "\n",
       "#sk-container-id-1 div.sk-parallel-item:only-child::after {\n",
       "  width: 0;\n",
       "}\n",
       "\n",
       "/* Serial-specific style estimator block */\n",
       "\n",
       "#sk-container-id-1 div.sk-serial {\n",
       "  display: flex;\n",
       "  flex-direction: column;\n",
       "  align-items: center;\n",
       "  background-color: var(--sklearn-color-background);\n",
       "  padding-right: 1em;\n",
       "  padding-left: 1em;\n",
       "}\n",
       "\n",
       "\n",
       "/* Toggleable style: style used for estimator/Pipeline/ColumnTransformer box that is\n",
       "clickable and can be expanded/collapsed.\n",
       "- Pipeline and ColumnTransformer use this feature and define the default style\n",
       "- Estimators will overwrite some part of the style using the `sk-estimator` class\n",
       "*/\n",
       "\n",
       "/* Pipeline and ColumnTransformer style (default) */\n",
       "\n",
       "#sk-container-id-1 div.sk-toggleable {\n",
       "  /* Default theme specific background. It is overwritten whether we have a\n",
       "  specific estimator or a Pipeline/ColumnTransformer */\n",
       "  background-color: var(--sklearn-color-background);\n",
       "}\n",
       "\n",
       "/* Toggleable label */\n",
       "#sk-container-id-1 label.sk-toggleable__label {\n",
       "  cursor: pointer;\n",
       "  display: block;\n",
       "  width: 100%;\n",
       "  margin-bottom: 0;\n",
       "  padding: 0.5em;\n",
       "  box-sizing: border-box;\n",
       "  text-align: center;\n",
       "}\n",
       "\n",
       "#sk-container-id-1 label.sk-toggleable__label-arrow:before {\n",
       "  /* Arrow on the left of the label */\n",
       "  content: \"▸\";\n",
       "  float: left;\n",
       "  margin-right: 0.25em;\n",
       "  color: var(--sklearn-color-icon);\n",
       "}\n",
       "\n",
       "#sk-container-id-1 label.sk-toggleable__label-arrow:hover:before {\n",
       "  color: var(--sklearn-color-text);\n",
       "}\n",
       "\n",
       "/* Toggleable content - dropdown */\n",
       "\n",
       "#sk-container-id-1 div.sk-toggleable__content {\n",
       "  max-height: 0;\n",
       "  max-width: 0;\n",
       "  overflow: hidden;\n",
       "  text-align: left;\n",
       "  /* unfitted */\n",
       "  background-color: var(--sklearn-color-unfitted-level-0);\n",
       "}\n",
       "\n",
       "#sk-container-id-1 div.sk-toggleable__content.fitted {\n",
       "  /* fitted */\n",
       "  background-color: var(--sklearn-color-fitted-level-0);\n",
       "}\n",
       "\n",
       "#sk-container-id-1 div.sk-toggleable__content pre {\n",
       "  margin: 0.2em;\n",
       "  border-radius: 0.25em;\n",
       "  color: var(--sklearn-color-text);\n",
       "  /* unfitted */\n",
       "  background-color: var(--sklearn-color-unfitted-level-0);\n",
       "}\n",
       "\n",
       "#sk-container-id-1 div.sk-toggleable__content.fitted pre {\n",
       "  /* unfitted */\n",
       "  background-color: var(--sklearn-color-fitted-level-0);\n",
       "}\n",
       "\n",
       "#sk-container-id-1 input.sk-toggleable__control:checked~div.sk-toggleable__content {\n",
       "  /* Expand drop-down */\n",
       "  max-height: 200px;\n",
       "  max-width: 100%;\n",
       "  overflow: auto;\n",
       "}\n",
       "\n",
       "#sk-container-id-1 input.sk-toggleable__control:checked~label.sk-toggleable__label-arrow:before {\n",
       "  content: \"▾\";\n",
       "}\n",
       "\n",
       "/* Pipeline/ColumnTransformer-specific style */\n",
       "\n",
       "#sk-container-id-1 div.sk-label input.sk-toggleable__control:checked~label.sk-toggleable__label {\n",
       "  color: var(--sklearn-color-text);\n",
       "  background-color: var(--sklearn-color-unfitted-level-2);\n",
       "}\n",
       "\n",
       "#sk-container-id-1 div.sk-label.fitted input.sk-toggleable__control:checked~label.sk-toggleable__label {\n",
       "  background-color: var(--sklearn-color-fitted-level-2);\n",
       "}\n",
       "\n",
       "/* Estimator-specific style */\n",
       "\n",
       "/* Colorize estimator box */\n",
       "#sk-container-id-1 div.sk-estimator input.sk-toggleable__control:checked~label.sk-toggleable__label {\n",
       "  /* unfitted */\n",
       "  background-color: var(--sklearn-color-unfitted-level-2);\n",
       "}\n",
       "\n",
       "#sk-container-id-1 div.sk-estimator.fitted input.sk-toggleable__control:checked~label.sk-toggleable__label {\n",
       "  /* fitted */\n",
       "  background-color: var(--sklearn-color-fitted-level-2);\n",
       "}\n",
       "\n",
       "#sk-container-id-1 div.sk-label label.sk-toggleable__label,\n",
       "#sk-container-id-1 div.sk-label label {\n",
       "  /* The background is the default theme color */\n",
       "  color: var(--sklearn-color-text-on-default-background);\n",
       "}\n",
       "\n",
       "/* On hover, darken the color of the background */\n",
       "#sk-container-id-1 div.sk-label:hover label.sk-toggleable__label {\n",
       "  color: var(--sklearn-color-text);\n",
       "  background-color: var(--sklearn-color-unfitted-level-2);\n",
       "}\n",
       "\n",
       "/* Label box, darken color on hover, fitted */\n",
       "#sk-container-id-1 div.sk-label.fitted:hover label.sk-toggleable__label.fitted {\n",
       "  color: var(--sklearn-color-text);\n",
       "  background-color: var(--sklearn-color-fitted-level-2);\n",
       "}\n",
       "\n",
       "/* Estimator label */\n",
       "\n",
       "#sk-container-id-1 div.sk-label label {\n",
       "  font-family: monospace;\n",
       "  font-weight: bold;\n",
       "  display: inline-block;\n",
       "  line-height: 1.2em;\n",
       "}\n",
       "\n",
       "#sk-container-id-1 div.sk-label-container {\n",
       "  text-align: center;\n",
       "}\n",
       "\n",
       "/* Estimator-specific */\n",
       "#sk-container-id-1 div.sk-estimator {\n",
       "  font-family: monospace;\n",
       "  border: 1px dotted var(--sklearn-color-border-box);\n",
       "  border-radius: 0.25em;\n",
       "  box-sizing: border-box;\n",
       "  margin-bottom: 0.5em;\n",
       "  /* unfitted */\n",
       "  background-color: var(--sklearn-color-unfitted-level-0);\n",
       "}\n",
       "\n",
       "#sk-container-id-1 div.sk-estimator.fitted {\n",
       "  /* fitted */\n",
       "  background-color: var(--sklearn-color-fitted-level-0);\n",
       "}\n",
       "\n",
       "/* on hover */\n",
       "#sk-container-id-1 div.sk-estimator:hover {\n",
       "  /* unfitted */\n",
       "  background-color: var(--sklearn-color-unfitted-level-2);\n",
       "}\n",
       "\n",
       "#sk-container-id-1 div.sk-estimator.fitted:hover {\n",
       "  /* fitted */\n",
       "  background-color: var(--sklearn-color-fitted-level-2);\n",
       "}\n",
       "\n",
       "/* Specification for estimator info (e.g. \"i\" and \"?\") */\n",
       "\n",
       "/* Common style for \"i\" and \"?\" */\n",
       "\n",
       ".sk-estimator-doc-link,\n",
       "a:link.sk-estimator-doc-link,\n",
       "a:visited.sk-estimator-doc-link {\n",
       "  float: right;\n",
       "  font-size: smaller;\n",
       "  line-height: 1em;\n",
       "  font-family: monospace;\n",
       "  background-color: var(--sklearn-color-background);\n",
       "  border-radius: 1em;\n",
       "  height: 1em;\n",
       "  width: 1em;\n",
       "  text-decoration: none !important;\n",
       "  margin-left: 1ex;\n",
       "  /* unfitted */\n",
       "  border: var(--sklearn-color-unfitted-level-1) 1pt solid;\n",
       "  color: var(--sklearn-color-unfitted-level-1);\n",
       "}\n",
       "\n",
       ".sk-estimator-doc-link.fitted,\n",
       "a:link.sk-estimator-doc-link.fitted,\n",
       "a:visited.sk-estimator-doc-link.fitted {\n",
       "  /* fitted */\n",
       "  border: var(--sklearn-color-fitted-level-1) 1pt solid;\n",
       "  color: var(--sklearn-color-fitted-level-1);\n",
       "}\n",
       "\n",
       "/* On hover */\n",
       "div.sk-estimator:hover .sk-estimator-doc-link:hover,\n",
       ".sk-estimator-doc-link:hover,\n",
       "div.sk-label-container:hover .sk-estimator-doc-link:hover,\n",
       ".sk-estimator-doc-link:hover {\n",
       "  /* unfitted */\n",
       "  background-color: var(--sklearn-color-unfitted-level-3);\n",
       "  color: var(--sklearn-color-background);\n",
       "  text-decoration: none;\n",
       "}\n",
       "\n",
       "div.sk-estimator.fitted:hover .sk-estimator-doc-link.fitted:hover,\n",
       ".sk-estimator-doc-link.fitted:hover,\n",
       "div.sk-label-container:hover .sk-estimator-doc-link.fitted:hover,\n",
       ".sk-estimator-doc-link.fitted:hover {\n",
       "  /* fitted */\n",
       "  background-color: var(--sklearn-color-fitted-level-3);\n",
       "  color: var(--sklearn-color-background);\n",
       "  text-decoration: none;\n",
       "}\n",
       "\n",
       "/* Span, style for the box shown on hovering the info icon */\n",
       ".sk-estimator-doc-link span {\n",
       "  display: none;\n",
       "  z-index: 9999;\n",
       "  position: relative;\n",
       "  font-weight: normal;\n",
       "  right: .2ex;\n",
       "  padding: .5ex;\n",
       "  margin: .5ex;\n",
       "  width: min-content;\n",
       "  min-width: 20ex;\n",
       "  max-width: 50ex;\n",
       "  color: var(--sklearn-color-text);\n",
       "  box-shadow: 2pt 2pt 4pt #999;\n",
       "  /* unfitted */\n",
       "  background: var(--sklearn-color-unfitted-level-0);\n",
       "  border: .5pt solid var(--sklearn-color-unfitted-level-3);\n",
       "}\n",
       "\n",
       ".sk-estimator-doc-link.fitted span {\n",
       "  /* fitted */\n",
       "  background: var(--sklearn-color-fitted-level-0);\n",
       "  border: var(--sklearn-color-fitted-level-3);\n",
       "}\n",
       "\n",
       ".sk-estimator-doc-link:hover span {\n",
       "  display: block;\n",
       "}\n",
       "\n",
       "/* \"?\"-specific style due to the `<a>` HTML tag */\n",
       "\n",
       "#sk-container-id-1 a.estimator_doc_link {\n",
       "  float: right;\n",
       "  font-size: 1rem;\n",
       "  line-height: 1em;\n",
       "  font-family: monospace;\n",
       "  background-color: var(--sklearn-color-background);\n",
       "  border-radius: 1rem;\n",
       "  height: 1rem;\n",
       "  width: 1rem;\n",
       "  text-decoration: none;\n",
       "  /* unfitted */\n",
       "  color: var(--sklearn-color-unfitted-level-1);\n",
       "  border: var(--sklearn-color-unfitted-level-1) 1pt solid;\n",
       "}\n",
       "\n",
       "#sk-container-id-1 a.estimator_doc_link.fitted {\n",
       "  /* fitted */\n",
       "  border: var(--sklearn-color-fitted-level-1) 1pt solid;\n",
       "  color: var(--sklearn-color-fitted-level-1);\n",
       "}\n",
       "\n",
       "/* On hover */\n",
       "#sk-container-id-1 a.estimator_doc_link:hover {\n",
       "  /* unfitted */\n",
       "  background-color: var(--sklearn-color-unfitted-level-3);\n",
       "  color: var(--sklearn-color-background);\n",
       "  text-decoration: none;\n",
       "}\n",
       "\n",
       "#sk-container-id-1 a.estimator_doc_link.fitted:hover {\n",
       "  /* fitted */\n",
       "  background-color: var(--sklearn-color-fitted-level-3);\n",
       "}\n",
       "</style><div id=\"sk-container-id-1\" class=\"sk-top-container\"><div class=\"sk-text-repr-fallback\"><pre>RandomForestClassifier(max_depth=10, min_samples_leaf=5, min_samples_split=5,\n",
       "                       n_estimators=900)</pre><b>In a Jupyter environment, please rerun this cell to show the HTML representation or trust the notebook. <br />On GitHub, the HTML representation is unable to render, please try loading this page with nbviewer.org.</b></div><div class=\"sk-container\" hidden><div class=\"sk-item\"><div class=\"sk-estimator fitted sk-toggleable\"><input class=\"sk-toggleable__control sk-hidden--visually\" id=\"sk-estimator-id-1\" type=\"checkbox\" checked><label for=\"sk-estimator-id-1\" class=\"sk-toggleable__label fitted sk-toggleable__label-arrow fitted\">&nbsp;&nbsp;RandomForestClassifier<a class=\"sk-estimator-doc-link fitted\" rel=\"noreferrer\" target=\"_blank\" href=\"https://scikit-learn.org/1.5/modules/generated/sklearn.ensemble.RandomForestClassifier.html\">?<span>Documentation for RandomForestClassifier</span></a><span class=\"sk-estimator-doc-link fitted\">i<span>Fitted</span></span></label><div class=\"sk-toggleable__content fitted\"><pre>RandomForestClassifier(max_depth=10, min_samples_leaf=5, min_samples_split=5,\n",
       "                       n_estimators=900)</pre></div> </div></div></div></div>"
      ],
      "text/plain": [
       "RandomForestClassifier(max_depth=10, min_samples_leaf=5, min_samples_split=5,\n",
       "                       n_estimators=900)"
      ]
     },
     "execution_count": 20,
     "metadata": {},
     "output_type": "execute_result"
    }
   ],
   "source": [
    "rf.fit(X_train,y_train)"
   ]
  },
  {
   "cell_type": "code",
   "execution_count": 21,
   "metadata": {
    "id": "L4WpsJpDUIqF"
   },
   "outputs": [],
   "source": [
    "train_split_predictions = rf.predict(X_val)\n",
    "test_df_predictions = rf.predict(test_df)"
   ]
  },
  {
   "cell_type": "code",
   "execution_count": 33,
   "metadata": {
    "id": "QtDOTvPMWLbx"
   },
   "outputs": [],
   "source": [
    "from sklearn.metrics import accuracy_score, precision_score, recall_score, f1_score, roc_auc_score,classification_report,confusion_matrix"
   ]
  },
  {
   "cell_type": "code",
   "execution_count": 23,
   "metadata": {
    "id": "mxdpTWL7Warv"
   },
   "outputs": [],
   "source": [
    "def score(y_test,y_pred):\n",
    "    accuracy = accuracy_score(y_test, y_pred)\n",
    "    precision = precision_score(y_test, y_pred, average='macro')\n",
    "    recall = recall_score(y_test, y_pred, average='macro')\n",
    "    f1 = f1_score(y_test, y_pred, average='macro')\n",
    "    # roc_auc = roc_auc_score(y_test, rf.predict_proba(test_df), multi_class='ovr')\n",
    "\n",
    "    print(\"Accuracy:\", accuracy)\n",
    "    print(\"Precision:\", precision)\n",
    "    print(\"Recall:\", recall)\n",
    "    print(\"F1-score:\", f1)\n",
    "    # print(\"ROC-AUC:\", roc_auc)\n"
   ]
  },
  {
   "cell_type": "code",
   "execution_count": 24,
   "metadata": {
    "colab": {
     "base_uri": "https://localhost:8080/"
    },
    "id": "TuDJA4mJWwZf",
    "outputId": "a4737a71-6162-4264-a752-2f9c448f7526"
   },
   "outputs": [
    {
     "name": "stdout",
     "output_type": "stream",
     "text": [
      "Confusion Matrix:\n",
      "[[9974   85]\n",
      " [ 532 1138]]\n"
     ]
    }
   ],
   "source": [
    "cm = confusion_matrix(y_val, train_split_predictions)\n",
    "\n",
    "# Print the confusion matrix\n",
    "print(\"Confusion Matrix:\")\n",
    "print(cm)\n",
    "\n",
    "# Plot the confusion matrix using seaborn\n"
   ]
  },
  {
   "cell_type": "code",
   "execution_count": 25,
   "metadata": {
    "colab": {
     "base_uri": "https://localhost:8080/",
     "height": 564
    },
    "id": "1yDTcXVEX8FV",
    "outputId": "5a34163d-4ed9-4336-d4a3-270c30e79696"
   },
   "outputs": [
    {
     "data": {
      "image/png": "[encoded data removed]",
      "text/plain": [
       "<Figure size 800x600 with 2 Axes>"
      ]
     },
     "metadata": {},
     "output_type": "display_data"
    }
   ],
   "source": [
    "\n",
    "plt.figure(figsize=(8, 6))\n",
    "sns.heatmap(cm, annot=True, fmt='d', cmap='Blues')\n",
    "plt.xlabel(\"Predicted labels\")\n",
    "plt.ylabel(\"Actual labels\")\n",
    "plt.title(\"Confusion Matrix\")\n",
    "plt.show()"
   ]
  },
  {
   "cell_type": "markdown",
   "metadata": {
    "id": "D8bgLL7JhvII"
   },
   "source": [
    "# light gbm"
   ]
  },
  {
   "cell_type": "code",
   "execution_count": 26,
   "metadata": {
    "id": "1-Ycpg9eLR-H"
   },
   "outputs": [],
   "source": [
    "from lightgbm import LGBMClassifier\n",
    "from sklearn.model_selection import StratifiedKFold"
   ]
  },
  {
   "cell_type": "markdown",
   "metadata": {
    "id": "RmtD1wGAkoUG"
   },
   "source": [
    "Here are the explanations for each hyperparameter in the lgb_params dictionary with longer descriptions:\n",
    "1. objective\n",
    "Description: Specifies the objective function to be optimized. This determines the loss function that LightGBM will use to evaluate the model's performance. For binary classification problems, the objective function is typically set to 'binary', which corresponds to the logistic loss function.\n",
    "Value: 'binary' (binary classification)\n",
    "Other options: 'regression', 'multiclass', 'cross_entropy', etc.\n",
    "2. n_estimators\n",
    "Description: The number of boosting iterations. This hyperparameter controls the number of decision trees that are combined to form the final model. Increasing the number of estimators can improve the model's performance but also increases the risk of overfitting.\n",
    "Value: 3000\n",
    "Tuning tip: Increase for better performance, but risk overfitting. A common approach is to start with a small value (e.g., 100) and gradually increase it until the model's performance plateaus.\n",
    "3. metric\n",
    "Description: The evaluation metric for the model. This hyperparameter specifies the metric that LightGBM will use to evaluate the model's performance during training. For binary classification problems, common metrics include 'binary_logloss' (binary log loss), 'auc' (area under the ROC curve), and 'accuracy'.\n",
    "Value: 'binary_logloss' (binary log loss)\n",
    "Other options: 'auc', 'l2', 'mean_squared_error', etc.\n",
    "4. boosting_type\n",
    "Description: The boosting type. This hyperparameter controls the boosting algorithm used by LightGBM. The most commonly used boosting types are 'gbdt' (Gradient Boosting Decision Tree) and 'dart' (Dropouts meet Multiple Additive Regression Trees).\n",
    "Value: 'gbdt' (Gradient Boosting Decision Tree)\n",
    "Other options: 'dart', 'goss', 'rf'\n",
    "5. random_state\n",
    "Description: The random seed for reproducibility. This hyperparameter ensures that the model's training process is reproducible by setting a fixed random seed.\n",
    "Value: 42\n",
    "6. learning_rate\n",
    "Description: The learning rate for the model. This hyperparameter controls the step size of each boosting iteration. A smaller learning rate can lead to better convergence but may also increase training time.\n",
    "Value: 0.0322942967545754\n",
    "Tuning tip: Decrease for better convergence, but risk slower training. A common approach is to start with a small value (e.g., 0.01) and gradually increase it until the model's performance plateaus.\n",
    "7. num_leaves\n",
    "Description: The number of leaves in the decision tree. This hyperparameter controls the complexity of the decision tree. Increasing the number of leaves can improve the model's performance but also increases the risk of overfitting.\n",
    "Value: 24\n",
    "Tuning tip: Increase for better performance, but risk overfitting. A common approach is to start with a small value (e.g., 16) and gradually increase it until the model's performance plateaus.\n",
    "8. max_depth\n",
    "Description: The maximum depth of the decision tree. This hyperparameter controls the maximum depth of the decision tree. Increasing the maximum depth can improve the model's performance but also increases the risk of overfitting.\n",
    "Value: 15\n",
    "Tuning tip: Increase for better performance, but risk overfitting. A common approach is to start with a small value (e.g., 5) and gradually increase it until the model's performance plateaus.\n",
    "9. min_data_in_leaf\n",
    "Description: The minimum number of data points in a leaf. This hyperparameter controls the minimum number of data points required to be in a leaf node. Increasing this value can prevent overfitting but may also reduce the model's performance.\n",
    "Value: 25\n",
    "Tuning tip: Increase for better performance, but risk underfitting. A common approach is to start with a small value (e.g., 10) and gradually increase it until the model's performance plateaus.\n",
    "10. feature_fraction\n",
    "Description: The proportion of features to consider at each iteration. This hyperparameter controls the proportion of features that are randomly selected at each boosting iteration. Decreasing this value can prevent overfitting but may also reduce the model's performance.\n",
    "Value: `0.623614408528\n",
    "Meta AI has reached its word limit for this prompt. To continue, try a more specific prompt."
   ]
  },
  {
   "cell_type": "code",
   "execution_count": 27,
   "metadata": {
    "id": "7suF4dinLR78"
   },
   "outputs": [],
   "source": [
    "lgb_params = {\n",
    "    'objective': 'binary',\n",
    "    'n_estimators': 3000,\n",
    "    'metric': 'binary_logloss',\n",
    "    'boosting_type': 'gbdt',\n",
    "    'random_state': 42,\n",
    "    'learning_rate': 0.0322942967545754,\n",
    "    'num_leaves': 24,\n",
    "    'max_depth': 15,\n",
    "    'min_data_in_leaf': 25,\n",
    "    'feature_fraction': 0.6236144085285287,\n",
    "    'bagging_fraction': 0.9596685778433888,\n",
    "    'bagging_freq': 3,\n",
    "    'verbose': -1\n",
    "}\n",
    "\n",
    "different_params = {'bagging_fraction': 0.43904099091694154, 'boosting': 'gbdt', 'colsample_bytree': 0.9029709603801885, 'device': 'gpu', 'extra_trees': False, 'feature_fraction': 0.29828129570928497, 'learning_rate': 0.0722819048214123, 'max_depth': 11, 'metric': 'auc', 'min_child_samples': 770, 'min_split_gain': 0.24165420381221328, 'n_estimators': 2850, 'num_leaves': 1250, 'objective': 'binary', 'reg_alpha': 0.48503589153116633, 'reg_lambda': 0.012931105419962674, 'scale_pos_weight': 6, 'silent': True, 'subsample': 0.9, 'verbose': -1}"
   ]
  },
  {
   "cell_type": "code",
   "execution_count": 28,
   "metadata": {
    "id": "I4sScN9cn549"
   },
   "outputs": [],
   "source": [
    "objective = ['binary']\n",
    "n_estimators = [int(x) for x in np.linspace(100,1200,12)]\n",
    "metric = ['binary_logloss','auc','accuracy']\n",
    "boosting_type = ['dart','gbdt']\n",
    "learning_rate = [float(x) for x in np.linspace(0.01,1,50)]\n",
    "num_leaves = [int(x) for x in np.linspace(10,100,2)]\n",
    "max_depth = [int(x) for x in np.linspace(5,30,5)]\n",
    "min_data_leaf = [int(x) for x in np.linspace(10,80,4)]\n",
    "feature_fraction = [float(x) for x in np.linspace(0.1,1,10)]\n",
    "bagging_fraction = [float(x) for x in np.linspace(0.1,1,10)]\n",
    "bagging_freq = [int(x) for x in np.linspace(1,10,1)]\n",
    "\n",
    "param_grid = {\n",
    "    'objective': objective,\n",
    "    'n_estimators': n_estimators,\n",
    "    'metric': metric,\n",
    "    'boosting_type': boosting_type,\n",
    "    'learning_rate': learning_rate,\n",
    "    'num_leaves': num_leaves,\n",
    "    'max_depth': max_depth,\n",
    "    'min_data_in_leaf': min_data_leaf,\n",
    "    'feature_fraction': feature_fraction,\n",
    "    'bagging_fraction': bagging_fraction,\n",
    "    'bagging_freq': bagging_freq,\n",
    "}"
   ]
  },
  {
   "cell_type": "code",
   "execution_count": 29,
   "metadata": {
    "id": "Ff98ESKZlZwa"
   },
   "outputs": [],
   "source": [
    "import lightgbm as lgb\n",
    "lgb_model = lgb.LGBMClassifier()"
   ]
  },
  {
   "cell_type": "code",
   "execution_count": null,
   "metadata": {
    "id": "6Mf8w_inkg7O"
   },
   "outputs": [],
   "source": [
    "# Define RandomizedSearchCV\n",
    "'''random_search = RandomizedSearchCV(\n",
    "    estimator=lgb_model,\n",
    "    param_distributions=param_grid,\n",
    "    n_iter=50,  # Number of random combinations to try\n",
    "    # scoring='accuracy',  # Scoring metric\n",
    "    cv=3,  # 3-fold cross-validation\n",
    "    verbose= False,\n",
    "    random_state=42,\n",
    "    n_jobs= 1 # Utilize all available CPUs\n",
    ")'''"
   ]
  },
  {
   "cell_type": "code",
   "execution_count": null,
   "metadata": {
    "id": "ExqZHmxg21zv"
   },
   "outputs": [],
   "source": [
    "# random_search.fit(X_train, y_train)"
   ]
  },
  {
   "cell_type": "code",
   "execution_count": null,
   "metadata": {
    "id": "1yeo1YgFwJAd"
   },
   "outputs": [],
   "source": [
    "# print(\"Best Parameters:\", random_search.best_params_)"
   ]
  },
  {
   "cell_type": "code",
   "execution_count": 30,
   "metadata": {
    "id": "ZS5zG_XfePb6"
   },
   "outputs": [],
   "source": [
    "skf = StratifiedKFold(n_splits=5, shuffle=True, random_state=42)\n",
    "for fold, (train_idx, val_idx) in enumerate(skf.split(X, y)):\n",
    "    X_train, X_val = X.iloc[train_idx], X.iloc[val_idx]\n",
    "    y_train, y_val = y.iloc[train_idx], y.iloc[val_idx]"
   ]
  },
  {
   "cell_type": "code",
   "execution_count": 31,
   "metadata": {
    "colab": {
     "base_uri": "https://localhost:8080/",
     "height": 150
    },
    "id": "uyX74G37JJdP",
    "outputId": "387b615a-5ec2-4f27-ca0f-9b70660a79f5"
   },
   "outputs": [
    {
     "name": "stderr",
     "output_type": "stream",
     "text": [
      "e:\\python\\2.PROJECTS\\loan\\venv\\lib\\site-packages\\joblib\\externals\\loky\\backend\\context.py:136: UserWarning: Could not find the number of physical cores for the following reason:\n",
      "[WinError 2] The system cannot find the file specified\n",
      "Returning the number of logical cores instead. You can silence this warning by setting LOKY_MAX_CPU_COUNT to the number of cores you want to use.\n",
      "  warnings.warn(\n",
      "  File \"e:\\python\\2.PROJECTS\\loan\\venv\\lib\\site-packages\\joblib\\externals\\loky\\backend\\context.py\", line 257, in _count_physical_cores\n",
      "    cpu_info = subprocess.run(\n",
      "  File \"e:\\python\\2.PROJECTS\\loan\\venv\\lib\\subprocess.py\", line 503, in run\n",
      "    with Popen(*popenargs, **kwargs) as process:\n",
      "  File \"e:\\python\\2.PROJECTS\\loan\\venv\\lib\\subprocess.py\", line 971, in __init__\n",
      "    self._execute_child(args, executable, preexec_fn, close_fds,\n",
      "  File \"e:\\python\\2.PROJECTS\\loan\\venv\\lib\\subprocess.py\", line 1440, in _execute_child\n",
      "    hp, ht, pid, tid = _winapi.CreateProcess(executable, args,\n"
     ]
    },
    {
     "data": {
      "text/html": [
       "<style>#sk-container-id-2 {\n",
       "  /* Definition of color scheme common for light and dark mode */\n",
       "  --sklearn-color-text: black;\n",
       "  --sklearn-color-line: gray;\n",
       "  /* Definition of color scheme for unfitted estimators */\n",
       "  --sklearn-color-unfitted-level-0: #fff5e6;\n",
       "  --sklearn-color-unfitted-level-1: #f6e4d2;\n",
       "  --sklearn-color-unfitted-level-2: #ffe0b3;\n",
       "  --sklearn-color-unfitted-level-3: chocolate;\n",
       "  /* Definition of color scheme for fitted estimators */\n",
       "  --sklearn-color-fitted-level-0: #f0f8ff;\n",
       "  --sklearn-color-fitted-level-1: #d4ebff;\n",
       "  --sklearn-color-fitted-level-2: #b3dbfd;\n",
       "  --sklearn-color-fitted-level-3: cornflowerblue;\n",
       "\n",
       "  /* Specific color for light theme */\n",
       "  --sklearn-color-text-on-default-background: var(--sg-text-color, var(--theme-code-foreground, var(--jp-content-font-color1, black)));\n",
       "  --sklearn-color-background: var(--sg-background-color, var(--theme-background, var(--jp-layout-color0, white)));\n",
       "  --sklearn-color-border-box: var(--sg-text-color, var(--theme-code-foreground, var(--jp-content-font-color1, black)));\n",
       "  --sklearn-color-icon: #696969;\n",
       "\n",
       "  @media (prefers-color-scheme: dark) {\n",
       "    /* Redefinition of color scheme for dark theme */\n",
       "    --sklearn-color-text-on-default-background: var(--sg-text-color, var(--theme-code-foreground, var(--jp-content-font-color1, white)));\n",
       "    --sklearn-color-background: var(--sg-background-color, var(--theme-background, var(--jp-layout-color0, #111)));\n",
       "    --sklearn-color-border-box: var(--sg-text-color, var(--theme-code-foreground, var(--jp-content-font-color1, white)));\n",
       "    --sklearn-color-icon: #878787;\n",
       "  }\n",
       "}\n",
       "\n",
       "#sk-container-id-2 {\n",
       "  color: var(--sklearn-color-text);\n",
       "}\n",
       "\n",
       "#sk-container-id-2 pre {\n",
       "  padding: 0;\n",
       "}\n",
       "\n",
       "#sk-container-id-2 input.sk-hidden--visually {\n",
       "  border: 0;\n",
       "  clip: rect(1px 1px 1px 1px);\n",
       "  clip: rect(1px, 1px, 1px, 1px);\n",
       "  height: 1px;\n",
       "  margin: -1px;\n",
       "  overflow: hidden;\n",
       "  padding: 0;\n",
       "  position: absolute;\n",
       "  width: 1px;\n",
       "}\n",
       "\n",
       "#sk-container-id-2 div.sk-dashed-wrapped {\n",
       "  border: 1px dashed var(--sklearn-color-line);\n",
       "  margin: 0 0.4em 0.5em 0.4em;\n",
       "  box-sizing: border-box;\n",
       "  padding-bottom: 0.4em;\n",
       "  background-color: var(--sklearn-color-background);\n",
       "}\n",
       "\n",
       "#sk-container-id-2 div.sk-container {\n",
       "  /* jupyter's `normalize.less` sets `[hidden] { display: none; }`\n",
       "     but bootstrap.min.css set `[hidden] { display: none !important; }`\n",
       "     so we also need the `!important` here to be able to override the\n",
       "     default hidden behavior on the sphinx rendered scikit-learn.org.\n",
       "     See: https://github.com/scikit-learn/scikit-learn/issues/21755 */\n",
       "  display: inline-block !important;\n",
       "  position: relative;\n",
       "}\n",
       "\n",
       "#sk-container-id-2 div.sk-text-repr-fallback {\n",
       "  display: none;\n",
       "}\n",
       "\n",
       "div.sk-parallel-item,\n",
       "div.sk-serial,\n",
       "div.sk-item {\n",
       "  /* draw centered vertical line to link estimators */\n",
       "  background-image: linear-gradient(var(--sklearn-color-text-on-default-background), var(--sklearn-color-text-on-default-background));\n",
       "  background-size: 2px 100%;\n",
       "  background-repeat: no-repeat;\n",
       "  background-position: center center;\n",
       "}\n",
       "\n",
       "/* Parallel-specific style estimator block */\n",
       "\n",
       "#sk-container-id-2 div.sk-parallel-item::after {\n",
       "  content: \"\";\n",
       "  width: 100%;\n",
       "  border-bottom: 2px solid var(--sklearn-color-text-on-default-background);\n",
       "  flex-grow: 1;\n",
       "}\n",
       "\n",
       "#sk-container-id-2 div.sk-parallel {\n",
       "  display: flex;\n",
       "  align-items: stretch;\n",
       "  justify-content: center;\n",
       "  background-color: var(--sklearn-color-background);\n",
       "  position: relative;\n",
       "}\n",
       "\n",
       "#sk-container-id-2 div.sk-parallel-item {\n",
       "  display: flex;\n",
       "  flex-direction: column;\n",
       "}\n",
       "\n",
       "#sk-container-id-2 div.sk-parallel-item:first-child::after {\n",
       "  align-self: flex-end;\n",
       "  width: 50%;\n",
       "}\n",
       "\n",
       "#sk-container-id-2 div.sk-parallel-item:last-child::after {\n",
       "  align-self: flex-start;\n",
       "  width: 50%;\n",
       "}\n",
       "\n",
       "#sk-container-id-2 div.sk-parallel-item:only-child::after {\n",
       "  width: 0;\n",
       "}\n",
       "\n",
       "/* Serial-specific style estimator block */\n",
       "\n",
       "#sk-container-id-2 div.sk-serial {\n",
       "  display: flex;\n",
       "  flex-direction: column;\n",
       "  align-items: center;\n",
       "  background-color: var(--sklearn-color-background);\n",
       "  padding-right: 1em;\n",
       "  padding-left: 1em;\n",
       "}\n",
       "\n",
       "\n",
       "/* Toggleable style: style used for estimator/Pipeline/ColumnTransformer box that is\n",
       "clickable and can be expanded/collapsed.\n",
       "- Pipeline and ColumnTransformer use this feature and define the default style\n",
       "- Estimators will overwrite some part of the style using the `sk-estimator` class\n",
       "*/\n",
       "\n",
       "/* Pipeline and ColumnTransformer style (default) */\n",
       "\n",
       "#sk-container-id-2 div.sk-toggleable {\n",
       "  /* Default theme specific background. It is overwritten whether we have a\n",
       "  specific estimator or a Pipeline/ColumnTransformer */\n",
       "  background-color: var(--sklearn-color-background);\n",
       "}\n",
       "\n",
       "/* Toggleable label */\n",
       "#sk-container-id-2 label.sk-toggleable__label {\n",
       "  cursor: pointer;\n",
       "  display: block;\n",
       "  width: 100%;\n",
       "  margin-bottom: 0;\n",
       "  padding: 0.5em;\n",
       "  box-sizing: border-box;\n",
       "  text-align: center;\n",
       "}\n",
       "\n",
       "#sk-container-id-2 label.sk-toggleable__label-arrow:before {\n",
       "  /* Arrow on the left of the label */\n",
       "  content: \"▸\";\n",
       "  float: left;\n",
       "  margin-right: 0.25em;\n",
       "  color: var(--sklearn-color-icon);\n",
       "}\n",
       "\n",
       "#sk-container-id-2 label.sk-toggleable__label-arrow:hover:before {\n",
       "  color: var(--sklearn-color-text);\n",
       "}\n",
       "\n",
       "/* Toggleable content - dropdown */\n",
       "\n",
       "#sk-container-id-2 div.sk-toggleable__content {\n",
       "  max-height: 0;\n",
       "  max-width: 0;\n",
       "  overflow: hidden;\n",
       "  text-align: left;\n",
       "  /* unfitted */\n",
       "  background-color: var(--sklearn-color-unfitted-level-0);\n",
       "}\n",
       "\n",
       "#sk-container-id-2 div.sk-toggleable__content.fitted {\n",
       "  /* fitted */\n",
       "  background-color: var(--sklearn-color-fitted-level-0);\n",
       "}\n",
       "\n",
       "#sk-container-id-2 div.sk-toggleable__content pre {\n",
       "  margin: 0.2em;\n",
       "  border-radius: 0.25em;\n",
       "  color: var(--sklearn-color-text);\n",
       "  /* unfitted */\n",
       "  background-color: var(--sklearn-color-unfitted-level-0);\n",
       "}\n",
       "\n",
       "#sk-container-id-2 div.sk-toggleable__content.fitted pre {\n",
       "  /* unfitted */\n",
       "  background-color: var(--sklearn-color-fitted-level-0);\n",
       "}\n",
       "\n",
       "#sk-container-id-2 input.sk-toggleable__control:checked~div.sk-toggleable__content {\n",
       "  /* Expand drop-down */\n",
       "  max-height: 200px;\n",
       "  max-width: 100%;\n",
       "  overflow: auto;\n",
       "}\n",
       "\n",
       "#sk-container-id-2 input.sk-toggleable__control:checked~label.sk-toggleable__label-arrow:before {\n",
       "  content: \"▾\";\n",
       "}\n",
       "\n",
       "/* Pipeline/ColumnTransformer-specific style */\n",
       "\n",
       "#sk-container-id-2 div.sk-label input.sk-toggleable__control:checked~label.sk-toggleable__label {\n",
       "  color: var(--sklearn-color-text);\n",
       "  background-color: var(--sklearn-color-unfitted-level-2);\n",
       "}\n",
       "\n",
       "#sk-container-id-2 div.sk-label.fitted input.sk-toggleable__control:checked~label.sk-toggleable__label {\n",
       "  background-color: var(--sklearn-color-fitted-level-2);\n",
       "}\n",
       "\n",
       "/* Estimator-specific style */\n",
       "\n",
       "/* Colorize estimator box */\n",
       "#sk-container-id-2 div.sk-estimator input.sk-toggleable__control:checked~label.sk-toggleable__label {\n",
       "  /* unfitted */\n",
       "  background-color: var(--sklearn-color-unfitted-level-2);\n",
       "}\n",
       "\n",
       "#sk-container-id-2 div.sk-estimator.fitted input.sk-toggleable__control:checked~label.sk-toggleable__label {\n",
       "  /* fitted */\n",
       "  background-color: var(--sklearn-color-fitted-level-2);\n",
       "}\n",
       "\n",
       "#sk-container-id-2 div.sk-label label.sk-toggleable__label,\n",
       "#sk-container-id-2 div.sk-label label {\n",
       "  /* The background is the default theme color */\n",
       "  color: var(--sklearn-color-text-on-default-background);\n",
       "}\n",
       "\n",
       "/* On hover, darken the color of the background */\n",
       "#sk-container-id-2 div.sk-label:hover label.sk-toggleable__label {\n",
       "  color: var(--sklearn-color-text);\n",
       "  background-color: var(--sklearn-color-unfitted-level-2);\n",
       "}\n",
       "\n",
       "/* Label box, darken color on hover, fitted */\n",
       "#sk-container-id-2 div.sk-label.fitted:hover label.sk-toggleable__label.fitted {\n",
       "  color: var(--sklearn-color-text);\n",
       "  background-color: var(--sklearn-color-fitted-level-2);\n",
       "}\n",
       "\n",
       "/* Estimator label */\n",
       "\n",
       "#sk-container-id-2 div.sk-label label {\n",
       "  font-family: monospace;\n",
       "  font-weight: bold;\n",
       "  display: inline-block;\n",
       "  line-height: 1.2em;\n",
       "}\n",
       "\n",
       "#sk-container-id-2 div.sk-label-container {\n",
       "  text-align: center;\n",
       "}\n",
       "\n",
       "/* Estimator-specific */\n",
       "#sk-container-id-2 div.sk-estimator {\n",
       "  font-family: monospace;\n",
       "  border: 1px dotted var(--sklearn-color-border-box);\n",
       "  border-radius: 0.25em;\n",
       "  box-sizing: border-box;\n",
       "  margin-bottom: 0.5em;\n",
       "  /* unfitted */\n",
       "  background-color: var(--sklearn-color-unfitted-level-0);\n",
       "}\n",
       "\n",
       "#sk-container-id-2 div.sk-estimator.fitted {\n",
       "  /* fitted */\n",
       "  background-color: var(--sklearn-color-fitted-level-0);\n",
       "}\n",
       "\n",
       "/* on hover */\n",
       "#sk-container-id-2 div.sk-estimator:hover {\n",
       "  /* unfitted */\n",
       "  background-color: var(--sklearn-color-unfitted-level-2);\n",
       "}\n",
       "\n",
       "#sk-container-id-2 div.sk-estimator.fitted:hover {\n",
       "  /* fitted */\n",
       "  background-color: var(--sklearn-color-fitted-level-2);\n",
       "}\n",
       "\n",
       "/* Specification for estimator info (e.g. \"i\" and \"?\") */\n",
       "\n",
       "/* Common style for \"i\" and \"?\" */\n",
       "\n",
       ".sk-estimator-doc-link,\n",
       "a:link.sk-estimator-doc-link,\n",
       "a:visited.sk-estimator-doc-link {\n",
       "  float: right;\n",
       "  font-size: smaller;\n",
       "  line-height: 1em;\n",
       "  font-family: monospace;\n",
       "  background-color: var(--sklearn-color-background);\n",
       "  border-radius: 1em;\n",
       "  height: 1em;\n",
       "  width: 1em;\n",
       "  text-decoration: none !important;\n",
       "  margin-left: 1ex;\n",
       "  /* unfitted */\n",
       "  border: var(--sklearn-color-unfitted-level-1) 1pt solid;\n",
       "  color: var(--sklearn-color-unfitted-level-1);\n",
       "}\n",
       "\n",
       ".sk-estimator-doc-link.fitted,\n",
       "a:link.sk-estimator-doc-link.fitted,\n",
       "a:visited.sk-estimator-doc-link.fitted {\n",
       "  /* fitted */\n",
       "  border: var(--sklearn-color-fitted-level-1) 1pt solid;\n",
       "  color: var(--sklearn-color-fitted-level-1);\n",
       "}\n",
       "\n",
       "/* On hover */\n",
       "div.sk-estimator:hover .sk-estimator-doc-link:hover,\n",
       ".sk-estimator-doc-link:hover,\n",
       "div.sk-label-container:hover .sk-estimator-doc-link:hover,\n",
       ".sk-estimator-doc-link:hover {\n",
       "  /* unfitted */\n",
       "  background-color: var(--sklearn-color-unfitted-level-3);\n",
       "  color: var(--sklearn-color-background);\n",
       "  text-decoration: none;\n",
       "}\n",
       "\n",
       "div.sk-estimator.fitted:hover .sk-estimator-doc-link.fitted:hover,\n",
       ".sk-estimator-doc-link.fitted:hover,\n",
       "div.sk-label-container:hover .sk-estimator-doc-link.fitted:hover,\n",
       ".sk-estimator-doc-link.fitted:hover {\n",
       "  /* fitted */\n",
       "  background-color: var(--sklearn-color-fitted-level-3);\n",
       "  color: var(--sklearn-color-background);\n",
       "  text-decoration: none;\n",
       "}\n",
       "\n",
       "/* Span, style for the box shown on hovering the info icon */\n",
       ".sk-estimator-doc-link span {\n",
       "  display: none;\n",
       "  z-index: 9999;\n",
       "  position: relative;\n",
       "  font-weight: normal;\n",
       "  right: .2ex;\n",
       "  padding: .5ex;\n",
       "  margin: .5ex;\n",
       "  width: min-content;\n",
       "  min-width: 20ex;\n",
       "  max-width: 50ex;\n",
       "  color: var(--sklearn-color-text);\n",
       "  box-shadow: 2pt 2pt 4pt #999;\n",
       "  /* unfitted */\n",
       "  background: var(--sklearn-color-unfitted-level-0);\n",
       "  border: .5pt solid var(--sklearn-color-unfitted-level-3);\n",
       "}\n",
       "\n",
       ".sk-estimator-doc-link.fitted span {\n",
       "  /* fitted */\n",
       "  background: var(--sklearn-color-fitted-level-0);\n",
       "  border: var(--sklearn-color-fitted-level-3);\n",
       "}\n",
       "\n",
       ".sk-estimator-doc-link:hover span {\n",
       "  display: block;\n",
       "}\n",
       "\n",
       "/* \"?\"-specific style due to the `<a>` HTML tag */\n",
       "\n",
       "#sk-container-id-2 a.estimator_doc_link {\n",
       "  float: right;\n",
       "  font-size: 1rem;\n",
       "  line-height: 1em;\n",
       "  font-family: monospace;\n",
       "  background-color: var(--sklearn-color-background);\n",
       "  border-radius: 1rem;\n",
       "  height: 1rem;\n",
       "  width: 1rem;\n",
       "  text-decoration: none;\n",
       "  /* unfitted */\n",
       "  color: var(--sklearn-color-unfitted-level-1);\n",
       "  border: var(--sklearn-color-unfitted-level-1) 1pt solid;\n",
       "}\n",
       "\n",
       "#sk-container-id-2 a.estimator_doc_link.fitted {\n",
       "  /* fitted */\n",
       "  border: var(--sklearn-color-fitted-level-1) 1pt solid;\n",
       "  color: var(--sklearn-color-fitted-level-1);\n",
       "}\n",
       "\n",
       "/* On hover */\n",
       "#sk-container-id-2 a.estimator_doc_link:hover {\n",
       "  /* unfitted */\n",
       "  background-color: var(--sklearn-color-unfitted-level-3);\n",
       "  color: var(--sklearn-color-background);\n",
       "  text-decoration: none;\n",
       "}\n",
       "\n",
       "#sk-container-id-2 a.estimator_doc_link.fitted:hover {\n",
       "  /* fitted */\n",
       "  background-color: var(--sklearn-color-fitted-level-3);\n",
       "}\n",
       "</style><div id=\"sk-container-id-2\" class=\"sk-top-container\"><div class=\"sk-text-repr-fallback\"><pre>LGBMClassifier(bagging_fraction=0.9596685778433888, bagging_freq=3,\n",
       "               feature_fraction=0.6236144085285287,\n",
       "               learning_rate=0.0322942967545754, max_depth=15,\n",
       "               metric=&#x27;binary_logloss&#x27;, min_data_in_leaf=25, n_estimators=3000,\n",
       "               num_leaves=24, objective=&#x27;binary&#x27;, random_state=42, verbose=-1)</pre><b>In a Jupyter environment, please rerun this cell to show the HTML representation or trust the notebook. <br />On GitHub, the HTML representation is unable to render, please try loading this page with nbviewer.org.</b></div><div class=\"sk-container\" hidden><div class=\"sk-item\"><div class=\"sk-estimator fitted sk-toggleable\"><input class=\"sk-toggleable__control sk-hidden--visually\" id=\"sk-estimator-id-2\" type=\"checkbox\" checked><label for=\"sk-estimator-id-2\" class=\"sk-toggleable__label fitted sk-toggleable__label-arrow fitted\">&nbsp;LGBMClassifier<span class=\"sk-estimator-doc-link fitted\">i<span>Fitted</span></span></label><div class=\"sk-toggleable__content fitted\"><pre>LGBMClassifier(bagging_fraction=0.9596685778433888, bagging_freq=3,\n",
       "               feature_fraction=0.6236144085285287,\n",
       "               learning_rate=0.0322942967545754, max_depth=15,\n",
       "               metric=&#x27;binary_logloss&#x27;, min_data_in_leaf=25, n_estimators=3000,\n",
       "               num_leaves=24, objective=&#x27;binary&#x27;, random_state=42, verbose=-1)</pre></div> </div></div></div></div>"
      ],
      "text/plain": [
       "LGBMClassifier(bagging_fraction=0.9596685778433888, bagging_freq=3,\n",
       "               feature_fraction=0.6236144085285287,\n",
       "               learning_rate=0.0322942967545754, max_depth=15,\n",
       "               metric='binary_logloss', min_data_in_leaf=25, n_estimators=3000,\n",
       "               num_leaves=24, objective='binary', random_state=42, verbose=-1)"
      ]
     },
     "execution_count": 31,
     "metadata": {},
     "output_type": "execute_result"
    }
   ],
   "source": [
    "lgbm_predictions = np.zeros(len(train_df))\n",
    "lgbm_true_labels = np.zeros(len(train_df))\n",
    "lgbm_test_predictions = np.zeros(len(test_df))\n",
    "\n",
    "lgbm_model = LGBMClassifier(**lgb_params)\n",
    "lgbm_model.fit(X_train, y_train,\n",
    "                   eval_set=[(X_val, y_val)],\n",
    "                   eval_metric='auc')\n"
   ]
  },
  {
   "cell_type": "code",
   "execution_count": 32,
   "metadata": {
    "colab": {
     "base_uri": "https://localhost:8080/"
    },
    "id": "skHDxPDvfiAN",
    "outputId": "6726e269-71a9-4879-ebb8-5fe80d9d731f"
   },
   "outputs": [
    {
     "name": "stdout",
     "output_type": "stream",
     "text": [
      "Overall AUC (LGBMClassifier with StratifiedKFold): 0.9924393144382581\n"
     ]
    }
   ],
   "source": [
    "\n",
    "lgbm_fold_preds = lgbm_model.predict_proba(X_val)[:, 1]  #returns a 2D array with shape (n_samples, n_classes), this indexing extracts the second column ([:, 1]) of the array,\n",
    "lgbm_fold_test_preds = lgbm_model.predict_proba(test_df)[:, 1]\n",
    "lgbm_predictions[val_idx] = lgbm_fold_preds\n",
    "lgbm_true_labels[val_idx] = y_val\n",
    "lgbm_test_predictions += lgbm_fold_test_preds / 5 #n_splits=5\n",
    "overall_metric_lgbm = roc_auc_score(lgbm_true_labels, lgbm_predictions)\n",
    "print(\"Overall AUC (LGBMClassifier with StratifiedKFold):\", overall_metric_lgbm)"
   ]
  },
  {
   "cell_type": "code",
   "execution_count": 34,
   "metadata": {},
   "outputs": [
    {
     "name": "stdout",
     "output_type": "stream",
     "text": [
      "Accuracy: 0.9507204365248529\n",
      "Precision: 0.9268578774676823\n",
      "Recall: 0.8629021110775764\n",
      "F1-score: 0.891084788350438\n"
     ]
    }
   ],
   "source": [
    "y_pred  = lgbm_model.predict(X_val)\n",
    "# provide y_val for scores\n",
    "def score(y_test,y_pred):\n",
    "    accuracy = accuracy_score(y_test, y_pred)\n",
    "    precision = precision_score(y_test, y_pred, average='macro')\n",
    "    recall = recall_score(y_test, y_pred, average='macro')\n",
    "    f1 = f1_score(y_test, y_pred, average='macro')\n",
    "    # roc_auc = roc_auc_score(y_test, rf.predict_proba(test_df), multi_class='ovr')\n",
    "\n",
    "    print(\"Accuracy:\", accuracy)\n",
    "    print(\"Precision:\", precision)\n",
    "    print(\"Recall:\", recall)\n",
    "    print(\"F1-score:\", f1)\n",
    "    # print(\"ROC-AUC:\", roc_auc)\n",
    "\n",
    "score(y_val,y_pred)"
   ]
  },
  {
   "cell_type": "code",
   "execution_count": 35,
   "metadata": {
    "colab": {
     "base_uri": "https://localhost:8080/",
     "height": 581
    },
    "id": "KSirsiuAghWI",
    "outputId": "8460b5b9-f0e5-47d7-9ecc-de9b0c6124e5"
   },
   "outputs": [
    {
     "data": {
      "text/plain": [
       "<Axes: title={'center': 'Feature importance'}, xlabel='Feature importance', ylabel='Features'>"
      ]
     },
     "execution_count": 35,
     "metadata": {},
     "output_type": "execute_result"
    },
    {
     "data": {
      "image/png": "[encoded data removed]",
      "text/plain": [
       "<Figure size 1000x600 with 1 Axes>"
      ]
     },
     "metadata": {},
     "output_type": "display_data"
    }
   ],
   "source": [
    "from lightgbm import plot_importance\n",
    "plot_importance(lgbm_model,figsize=(10, 6))"
   ]
  },
  {
   "cell_type": "code",
   "execution_count": 36,
   "metadata": {
    "colab": {
     "base_uri": "https://localhost:8080/",
     "height": 564
    },
    "id": "yneJSgIWgyHC",
    "outputId": "8b60b9ae-b8f2-4cb0-e39a-a9b7e4569595"
   },
   "outputs": [
    {
     "data": {
      "image/png": "[encoded data removed]",
      "text/plain": [
       "<Figure size 1000x600 with 1 Axes>"
      ]
     },
     "metadata": {},
     "output_type": "display_data"
    }
   ],
   "source": [
    "from sklearn.metrics import roc_curve, auc\n",
    "fpr_lgbm, tpr_lgbm, _ = roc_curve(lgbm_true_labels, lgbm_predictions)\n",
    "roc_auc_lgbm = auc(fpr_lgbm, tpr_lgbm)\n",
    "\n",
    "# fpr_catboost, tpr_catboost, _ = roc_curve(catboost_true_labels, catboost_predictions)\n",
    "# roc_auc_catboost = auc(fpr_catboost, tpr_catboost)\n",
    "\n",
    "plt.figure(figsize=(10, 6))\n",
    "plt.plot(fpr_lgbm, tpr_lgbm, color='blue', lw=2, label=f'LightGBM ROC Curve (AUC = {roc_auc_lgbm:.4f})')\n",
    "# plt.plot(fpr_catboost, tpr_catboost, color='green', lw=2, label=f'CatBoost ROC Curve (AUC = {roc_auc_catboost:.4f})')\n",
    "plt.plot([0, 1], [0, 1], color='red', linestyle='--')\n",
    "plt.xlim([0.0, 1.0])\n",
    "plt.ylim([0.0, 1.05])\n",
    "plt.xlabel('False Positive Rate')\n",
    "plt.ylabel('True Positive Rate')\n",
    "plt.title('Receiver Operating Characteristic (ROC) Curves')\n",
    "plt.legend(loc='lower right')\n",
    "plt.grid(True)\n",
    "plt.show()"
   ]
  },
  {
   "cell_type": "markdown",
   "metadata": {
    "id": "cFfzovwKrLsn"
   },
   "source": [
    "# catbooost"
   ]
  },
  {
   "cell_type": "code",
   "execution_count": 19,
   "metadata": {
    "id": "l_mwinafrPoM"
   },
   "outputs": [],
   "source": [
    "from catboost import CatBoostClassifier,Pool,cv"
   ]
  },
  {
   "cell_type": "code",
   "execution_count": 20,
   "metadata": {},
   "outputs": [],
   "source": [
    "train_df= train.copy()\n",
    "test_df= test.copy()"
   ]
  },
  {
   "cell_type": "code",
   "execution_count": 21,
   "metadata": {},
   "outputs": [],
   "source": [
    "train_df.drop('id',axis=1,inplace=True)\n",
    "test_df.drop('id',axis=1,inplace=True)"
   ]
  },
  {
   "cell_type": "code",
   "execution_count": 22,
   "metadata": {
    "colab": {
     "base_uri": "https://localhost:8080/",
     "height": 226
    },
    "id": "L_iTCeIaroMS",
    "outputId": "ea14710a-a9a5-4605-d044-f318897dfb64"
   },
   "outputs": [
    {
     "data": {
      "text/html": [
       "<div>\n",
       "<style scoped>\n",
       "    .dataframe tbody tr th:only-of-type {\n",
       "        vertical-align: middle;\n",
       "    }\n",
       "\n",
       "    .dataframe tbody tr th {\n",
       "        vertical-align: top;\n",
       "    }\n",
       "\n",
       "    .dataframe thead th {\n",
       "        text-align: right;\n",
       "    }\n",
       "</style>\n",
       "<table border=\"1\" class=\"dataframe\">\n",
       "  <thead>\n",
       "    <tr style=\"text-align: right;\">\n",
       "      <th></th>\n",
       "      <th>person_age</th>\n",
       "      <th>person_income</th>\n",
       "      <th>person_home_ownership</th>\n",
       "      <th>person_emp_length</th>\n",
       "      <th>loan_intent</th>\n",
       "      <th>loan_grade</th>\n",
       "      <th>loan_amnt</th>\n",
       "      <th>loan_int_rate</th>\n",
       "      <th>loan_percent_income</th>\n",
       "      <th>cb_person_default_on_file</th>\n",
       "      <th>cb_person_cred_hist_length</th>\n",
       "      <th>loan_status</th>\n",
       "    </tr>\n",
       "  </thead>\n",
       "  <tbody>\n",
       "    <tr>\n",
       "      <th>0</th>\n",
       "      <td>37</td>\n",
       "      <td>35000</td>\n",
       "      <td>RENT</td>\n",
       "      <td>0.0</td>\n",
       "      <td>EDUCATION</td>\n",
       "      <td>B</td>\n",
       "      <td>6000</td>\n",
       "      <td>11.49</td>\n",
       "      <td>0.17</td>\n",
       "      <td>N</td>\n",
       "      <td>14</td>\n",
       "      <td>0</td>\n",
       "    </tr>\n",
       "    <tr>\n",
       "      <th>1</th>\n",
       "      <td>22</td>\n",
       "      <td>56000</td>\n",
       "      <td>OWN</td>\n",
       "      <td>6.0</td>\n",
       "      <td>MEDICAL</td>\n",
       "      <td>C</td>\n",
       "      <td>4000</td>\n",
       "      <td>13.35</td>\n",
       "      <td>0.07</td>\n",
       "      <td>N</td>\n",
       "      <td>2</td>\n",
       "      <td>0</td>\n",
       "    </tr>\n",
       "    <tr>\n",
       "      <th>2</th>\n",
       "      <td>29</td>\n",
       "      <td>28800</td>\n",
       "      <td>OWN</td>\n",
       "      <td>8.0</td>\n",
       "      <td>PERSONAL</td>\n",
       "      <td>A</td>\n",
       "      <td>6000</td>\n",
       "      <td>8.90</td>\n",
       "      <td>0.21</td>\n",
       "      <td>N</td>\n",
       "      <td>10</td>\n",
       "      <td>0</td>\n",
       "    </tr>\n",
       "    <tr>\n",
       "      <th>3</th>\n",
       "      <td>30</td>\n",
       "      <td>70000</td>\n",
       "      <td>RENT</td>\n",
       "      <td>14.0</td>\n",
       "      <td>VENTURE</td>\n",
       "      <td>B</td>\n",
       "      <td>12000</td>\n",
       "      <td>11.11</td>\n",
       "      <td>0.17</td>\n",
       "      <td>N</td>\n",
       "      <td>5</td>\n",
       "      <td>0</td>\n",
       "    </tr>\n",
       "    <tr>\n",
       "      <th>4</th>\n",
       "      <td>22</td>\n",
       "      <td>60000</td>\n",
       "      <td>RENT</td>\n",
       "      <td>2.0</td>\n",
       "      <td>MEDICAL</td>\n",
       "      <td>A</td>\n",
       "      <td>6000</td>\n",
       "      <td>6.92</td>\n",
       "      <td>0.10</td>\n",
       "      <td>N</td>\n",
       "      <td>3</td>\n",
       "      <td>0</td>\n",
       "    </tr>\n",
       "  </tbody>\n",
       "</table>\n",
       "</div>"
      ],
      "text/plain": [
       "   person_age  person_income person_home_ownership  person_emp_length  \\\n",
       "0          37          35000                  RENT                0.0   \n",
       "1          22          56000                   OWN                6.0   \n",
       "2          29          28800                   OWN                8.0   \n",
       "3          30          70000                  RENT               14.0   \n",
       "4          22          60000                  RENT                2.0   \n",
       "\n",
       "  loan_intent loan_grade  loan_amnt  loan_int_rate  loan_percent_income  \\\n",
       "0   EDUCATION          B       6000          11.49                 0.17   \n",
       "1     MEDICAL          C       4000          13.35                 0.07   \n",
       "2    PERSONAL          A       6000           8.90                 0.21   \n",
       "3     VENTURE          B      12000          11.11                 0.17   \n",
       "4     MEDICAL          A       6000           6.92                 0.10   \n",
       "\n",
       "  cb_person_default_on_file  cb_person_cred_hist_length  loan_status  \n",
       "0                         N                          14            0  \n",
       "1                         N                           2            0  \n",
       "2                         N                          10            0  \n",
       "3                         N                           5            0  \n",
       "4                         N                           3            0  "
      ]
     },
     "execution_count": 22,
     "metadata": {},
     "output_type": "execute_result"
    }
   ],
   "source": [
    "train_df.head()"
   ]
  },
  {
   "cell_type": "code",
   "execution_count": 23,
   "metadata": {
    "id": "_MDv0WTcNh--"
   },
   "outputs": [],
   "source": [
    "X = train_df.drop('loan_status', axis=1)\n",
    "y = train_df['loan_status']"
   ]
  },
  {
   "cell_type": "code",
   "execution_count": 24,
   "metadata": {
    "colab": {
     "base_uri": "https://localhost:8080/"
    },
    "id": "w_Gb9RUpNlvw",
    "outputId": "50ec2718-a0a8-4c26-9c6b-4c881465a444"
   },
   "outputs": [
    {
     "name": "stdout",
     "output_type": "stream",
     "text": [
      "(58645, 11)\n",
      "(58645,)\n"
     ]
    }
   ],
   "source": [
    "print(X.shape)\n",
    "print(y.shape)"
   ]
  },
  {
   "cell_type": "code",
   "execution_count": 25,
   "metadata": {
    "id": "wooaTF_ErvyJ"
   },
   "outputs": [],
   "source": [
    "from sklearn.model_selection import StratifiedKFold\n",
    "n_splits = 5  # Number of folds\n",
    "skf = StratifiedKFold(n_splits=n_splits, shuffle=True, random_state=42)\n",
    "\n",
    "for fold, (train_index, test_index) in enumerate(skf.split(X, y)):\n",
    "    # Split the data\n",
    "    X_train, X_test = X.iloc[train_index], X.iloc[test_index]\n",
    "    y_train, y_test = y.iloc[train_index], y.iloc[test_index]"
   ]
  },
  {
   "cell_type": "code",
   "execution_count": 26,
   "metadata": {
    "colab": {
     "base_uri": "https://localhost:8080/"
    },
    "id": "JAPJ8suYVdO4",
    "outputId": "0483b15e-2907-4e47-c5ca-5d48a2909887"
   },
   "outputs": [
    {
     "name": "stdout",
     "output_type": "stream",
     "text": [
      "(58645, 12)\n",
      "(39098, 11)\n"
     ]
    }
   ],
   "source": [
    "print(train_df.shape)\n",
    "print(test_df.shape)"
   ]
  },
  {
   "cell_type": "code",
   "execution_count": 27,
   "metadata": {
    "colab": {
     "base_uri": "https://localhost:8080/"
    },
    "id": "vo0BOedoOKvk",
    "outputId": "2ef054bc-8c7f-475d-e086-ea4ec0f77f8e"
   },
   "outputs": [
    {
     "name": "stdout",
     "output_type": "stream",
     "text": [
      "(46916, 11) (11729, 11)\n"
     ]
    }
   ],
   "source": [
    "print( X_train.shape, X_test.shape)"
   ]
  },
  {
   "cell_type": "code",
   "execution_count": 28,
   "metadata": {
    "colab": {
     "base_uri": "https://localhost:8080/"
    },
    "id": "9uz23WzNOUZH",
    "outputId": "c3265c56-9713-4616-8a34-65d926b3264b"
   },
   "outputs": [
    {
     "name": "stdout",
     "output_type": "stream",
     "text": [
      "(46916,) (11729,)\n"
     ]
    }
   ],
   "source": [
    "print(y_train.shape, y_test.shape,)"
   ]
  },
  {
   "cell_type": "code",
   "execution_count": 29,
   "metadata": {
    "colab": {
     "base_uri": "https://localhost:8080/"
    },
    "id": "NcnLUTNSR3s_",
    "outputId": "67233a4a-3190-4c44-ee7e-bc9fcdab677c"
   },
   "outputs": [
    {
     "data": {
      "text/plain": [
       "['person_home_ownership',\n",
       " 'loan_intent',\n",
       " 'loan_grade',\n",
       " 'cb_person_default_on_file']"
      ]
     },
     "execution_count": 29,
     "metadata": {},
     "output_type": "execute_result"
    }
   ],
   "source": [
    "features = cat_cols.to_list()\n",
    "features"
   ]
  },
  {
   "cell_type": "code",
   "execution_count": 30,
   "metadata": {
    "id": "ZusvLyVQPYcc"
   },
   "outputs": [],
   "source": [
    "train_pool = Pool(X_train,y_train,cat_features=features)\n",
    "test_pool = Pool(X_test,y_test,cat_features=features)\n"
   ]
  },
  {
   "cell_type": "code",
   "execution_count": 31,
   "metadata": {},
   "outputs": [],
   "source": [
    "def objective(trial):\n",
    "    params={\n",
    "        \"iterations\": trial.suggest_int(\"iterations\", 100, 1000),\n",
    "        \"depth\": trial.suggest_int(\"depth\", 4, 10),\n",
    "        \"learning_rate\": trial.suggest_float(\"learning_rate\", 1e-3, 0.3, log=True),\n",
    "        \"l2_leaf_reg\": trial.suggest_float(\"l2_leaf_reg\", 1e-2, 10.0, log=True),\n",
    "        \"border_count\": trial.suggest_int(\"border_count\", 32, 255),\n",
    "        \"random_strength\": trial.suggest_float(\"random_strength\", 1e-3, 10.0, log=True),\n",
    "        \"bagging_temperature\": trial.suggest_float(\"bagging_temperature\", 0.0, 1.0),\n",
    "        \"verbose\": 0,\n",
    "        \"loss_function\":trial.suggest_categorical(\"loss_function\", [\"Logloss\"]), # Logistic loss for binary classification\n",
    "        \"grow_policy\": trial.suggest_categorical(\"grow_policy\", [\"Lossguide\"]), # for large dataset\n",
    "        \"eval_metric\": trial.suggest_categorical(\"eval_metric\", [\"AUC\"])    # efficient for imbalanced dataset\n",
    "    }\n",
    "\n",
    "    model = CatBoostClassifier(**params, random_seed=42)\n",
    "    model.fit(train_pool, eval_set=test_pool, early_stopping_rounds=50, verbose=False)\n",
    "\n",
    "    # Predict and evaluate\n",
    "    preds = model.predict(test_pool)\n",
    "    accuracy = accuracy_score(test_pool.get_label(), preds)\n",
    "    return accuracy  # Higher is better\n",
    "\n",
    "\n",
    "#     catboost_params = {\n",
    "#     'depth': 7,\n",
    "#     'learning_rate': 0.19893301995319765,\n",
    "#     'bagging_temperature': 0.7979373495258176,\n",
    "#     'l2_leaf_reg': 5,\n",
    "#     'loss_function': 'Logloss',\n",
    "#     'iterations': 400,\n",
    "#     'grow_policy': 'Lossguide',\n",
    "#     'eval_metric': 'AUC',\n",
    "# }\n"
   ]
  },
  {
   "cell_type": "code",
   "execution_count": 34,
   "metadata": {
    "id": "iORDKsYFOZu6"
   },
   "outputs": [
    {
     "name": "stderr",
     "output_type": "stream",
     "text": [
      "[I 2024-12-18 18:26:28,466] A new study created in memory with name: no-name-1006fd1e-7851-49c4-920f-2dd91018f04b\n"
     ]
    },
    {
     "name": "stderr",
     "output_type": "stream",
     "text": [
      "[I 2024-12-18 18:27:07,402] Trial 0 finished with value: 0.9532781993349817 and parameters: {'iterations': 207, 'depth': 7, 'learning_rate': 0.141956881199599, 'l2_leaf_reg': 8.835865339261716, 'border_count': 163, 'random_strength': 1.5344409490292241, 'bagging_temperature': 0.5529927141843112, 'loss_function': 'Logloss', 'grow_policy': 'Lossguide', 'eval_metric': 'AUC'}. Best is trial 0 with value: 0.9532781993349817.\n",
      "[I 2024-12-18 18:27:46,500] Trial 1 finished with value: 0.9519993179299173 and parameters: {'iterations': 428, 'depth': 10, 'learning_rate': 0.1259624523836532, 'l2_leaf_reg': 0.7524133025174345, 'border_count': 70, 'random_strength': 0.39104787173948075, 'bagging_temperature': 0.07303788833328217, 'loss_function': 'Logloss', 'grow_policy': 'Lossguide', 'eval_metric': 'AUC'}. Best is trial 0 with value: 0.9532781993349817.\n",
      "[I 2024-12-18 18:29:23,481] Trial 2 finished with value: 0.9532781993349817 and parameters: {'iterations': 506, 'depth': 10, 'learning_rate': 0.06592971560329104, 'l2_leaf_reg': 0.5967692347469459, 'border_count': 226, 'random_strength': 0.3371150108354363, 'bagging_temperature': 0.4596433936536256, 'loss_function': 'Logloss', 'grow_policy': 'Lossguide', 'eval_metric': 'AUC'}. Best is trial 0 with value: 0.9532781993349817.\n",
      "[I 2024-12-18 18:29:39,486] Trial 3 finished with value: 0.9476511211526985 and parameters: {'iterations': 806, 'depth': 8, 'learning_rate': 0.003053199364618463, 'l2_leaf_reg': 0.5649655668280347, 'border_count': 84, 'random_strength': 0.12959603936080022, 'bagging_temperature': 0.605466021567995, 'loss_function': 'Logloss', 'grow_policy': 'Lossguide', 'eval_metric': 'AUC'}. Best is trial 0 with value: 0.9532781993349817.\n",
      "[I 2024-12-18 18:29:52,289] Trial 4 finished with value: 0.9469690510699974 and parameters: {'iterations': 934, 'depth': 10, 'learning_rate': 0.0010402405014936264, 'l2_leaf_reg': 0.1884018133951443, 'border_count': 132, 'random_strength': 0.03123825040065638, 'bagging_temperature': 0.3060528741916061, 'loss_function': 'Logloss', 'grow_policy': 'Lossguide', 'eval_metric': 'AUC'}. Best is trial 0 with value: 0.9532781993349817.\n",
      "[I 2024-12-18 18:31:56,013] Trial 5 finished with value: 0.9526813880126183 and parameters: {'iterations': 716, 'depth': 7, 'learning_rate': 0.019195435506757168, 'l2_leaf_reg': 0.07588445567292204, 'border_count': 91, 'random_strength': 0.08949015532136974, 'bagging_temperature': 0.8547483557931509, 'loss_function': 'Logloss', 'grow_policy': 'Lossguide', 'eval_metric': 'AUC'}. Best is trial 0 with value: 0.9532781993349817.\n",
      "[I 2024-12-18 18:32:10,772] Trial 6 finished with value: 0.9473953448716855 and parameters: {'iterations': 872, 'depth': 9, 'learning_rate': 0.001857844618833202, 'l2_leaf_reg': 0.01180979517693326, 'border_count': 171, 'random_strength': 0.01164896274524389, 'bagging_temperature': 0.21590340960816312, 'loss_function': 'Logloss', 'grow_policy': 'Lossguide', 'eval_metric': 'AUC'}. Best is trial 0 with value: 0.9532781993349817.\n",
      "[I 2024-12-18 18:32:36,243] Trial 7 finished with value: 0.9376758461931963 and parameters: {'iterations': 211, 'depth': 5, 'learning_rate': 0.0050956232319656035, 'l2_leaf_reg': 0.1141069330856414, 'border_count': 45, 'random_strength': 7.1153218227530015, 'bagging_temperature': 0.725432856721631, 'loss_function': 'Logloss', 'grow_policy': 'Lossguide', 'eval_metric': 'AUC'}. Best is trial 0 with value: 0.9532781993349817.\n",
      "[I 2024-12-18 18:34:25,713] Trial 8 finished with value: 0.9514877653678916 and parameters: {'iterations': 604, 'depth': 8, 'learning_rate': 0.006115644485398479, 'l2_leaf_reg': 4.207168838441835, 'border_count': 42, 'random_strength': 0.08070476791963503, 'bagging_temperature': 0.7720359153960084, 'loss_function': 'Logloss', 'grow_policy': 'Lossguide', 'eval_metric': 'AUC'}. Best is trial 0 with value: 0.9532781993349817.\n",
      "[I 2024-12-18 18:34:45,754] Trial 9 finished with value: 0.9496973314008015 and parameters: {'iterations': 893, 'depth': 8, 'learning_rate': 0.28718647874315184, 'l2_leaf_reg': 0.012047703790993137, 'border_count': 82, 'random_strength': 0.0619353329767711, 'bagging_temperature': 0.48252631607102503, 'loss_function': 'Logloss', 'grow_policy': 'Lossguide', 'eval_metric': 'AUC'}. Best is trial 0 with value: 0.9532781993349817.\n",
      "[I 2024-12-18 18:35:00,708] Trial 10 finished with value: 0.9496120726404638 and parameters: {'iterations': 133, 'depth': 5, 'learning_rate': 0.029181385030939345, 'l2_leaf_reg': 8.148338575609333, 'border_count': 246, 'random_strength': 0.0010321166553927234, 'bagging_temperature': 0.9863627548396277, 'loss_function': 'Logloss', 'grow_policy': 'Lossguide', 'eval_metric': 'AUC'}. Best is trial 0 with value: 0.9532781993349817.\n",
      "[I 2024-12-18 18:36:03,762] Trial 11 finished with value: 0.952766646772956 and parameters: {'iterations': 380, 'depth': 6, 'learning_rate': 0.06177012108934648, 'l2_leaf_reg': 1.9610523700553613, 'border_count': 222, 'random_strength': 1.741959532382311, 'bagging_temperature': 0.46179082319699183, 'loss_function': 'Logloss', 'grow_policy': 'Lossguide', 'eval_metric': 'AUC'}. Best is trial 0 with value: 0.9532781993349817.\n",
      "[I 2024-12-18 18:36:57,668] Trial 12 finished with value: 0.9522550942109301 and parameters: {'iterations': 302, 'depth': 7, 'learning_rate': 0.0892453788556147, 'l2_leaf_reg': 1.8486695099821635, 'border_count': 186, 'random_strength': 1.0241263231689262, 'bagging_temperature': 0.35378241870407956, 'loss_function': 'Logloss', 'grow_policy': 'Lossguide', 'eval_metric': 'AUC'}. Best is trial 0 with value: 0.9532781993349817.\n",
      "[I 2024-12-18 18:37:32,509] Trial 13 finished with value: 0.9502088839628272 and parameters: {'iterations': 545, 'depth': 6, 'learning_rate': 0.2643011509027547, 'l2_leaf_reg': 0.040868280365293996, 'border_count': 204, 'random_strength': 9.552896695516012, 'bagging_temperature': 0.5726623728037582, 'loss_function': 'Logloss', 'grow_policy': 'Lossguide', 'eval_metric': 'AUC'}. Best is trial 0 with value: 0.9532781993349817.\n",
      "[I 2024-12-18 18:38:19,225] Trial 14 finished with value: 0.9526813880126183 and parameters: {'iterations': 512, 'depth': 4, 'learning_rate': 0.0422530155866054, 'l2_leaf_reg': 7.898440703924828, 'border_count': 141, 'random_strength': 1.0845566762862404, 'bagging_temperature': 0.6380527752672542, 'loss_function': 'Logloss', 'grow_policy': 'Lossguide', 'eval_metric': 'AUC'}. Best is trial 0 with value: 0.9532781993349817.\n",
      "[I 2024-12-18 18:38:38,348] Trial 15 finished with value: 0.9529371642936312 and parameters: {'iterations': 116, 'depth': 9, 'learning_rate': 0.16127772590288184, 'l2_leaf_reg': 0.4400435757862732, 'border_count': 242, 'random_strength': 0.3653622968972579, 'bagging_temperature': 0.36114490078970274, 'loss_function': 'Logloss', 'grow_policy': 'Lossguide', 'eval_metric': 'AUC'}. Best is trial 0 with value: 0.9532781993349817.\n",
      "[I 2024-12-18 18:39:31,152] Trial 16 finished with value: 0.9482479324750618 and parameters: {'iterations': 275, 'depth': 9, 'learning_rate': 0.011604516560952592, 'l2_leaf_reg': 1.2341463058357378, 'border_count': 173, 'random_strength': 2.5436008629900884, 'bagging_temperature': 0.1347456883755631, 'loss_function': 'Logloss', 'grow_policy': 'Lossguide', 'eval_metric': 'AUC'}. Best is trial 0 with value: 0.9532781993349817.\n",
      "[I 2024-12-18 18:41:16,284] Trial 17 finished with value: 0.9519993179299173 and parameters: {'iterations': 685, 'depth': 6, 'learning_rate': 0.0496137562745096, 'l2_leaf_reg': 4.560769160658413, 'border_count': 116, 'random_strength': 0.3415055731558295, 'bagging_temperature': 0.4701902436720848, 'loss_function': 'Logloss', 'grow_policy': 'Lossguide', 'eval_metric': 'AUC'}. Best is trial 0 with value: 0.9532781993349817.\n",
      "[I 2024-12-18 18:41:58,398] Trial 18 finished with value: 0.952766646772956 and parameters: {'iterations': 440, 'depth': 7, 'learning_rate': 0.12781229269907077, 'l2_leaf_reg': 0.2874139312297124, 'border_count': 211, 'random_strength': 0.00801266568582969, 'bagging_temperature': 0.22156294277772148, 'loss_function': 'Logloss', 'grow_policy': 'Lossguide', 'eval_metric': 'AUC'}. Best is trial 0 with value: 0.9532781993349817.\n",
      "[I 2024-12-18 18:42:52,900] Trial 19 finished with value: 0.9498678489214767 and parameters: {'iterations': 308, 'depth': 10, 'learning_rate': 0.024804394064128862, 'l2_leaf_reg': 0.03429976561941754, 'border_count': 167, 'random_strength': 2.8406239376711824, 'bagging_temperature': 0.6912711510645305, 'loss_function': 'Logloss', 'grow_policy': 'Lossguide', 'eval_metric': 'AUC'}. Best is trial 0 with value: 0.9532781993349817.\n",
      "[I 2024-12-18 18:44:59,559] Trial 20 finished with value: 0.9535339756159945 and parameters: {'iterations': 676, 'depth': 8, 'learning_rate': 0.01077857935189513, 'l2_leaf_reg': 3.42604261727251, 'border_count': 225, 'random_strength': 0.5815000567782691, 'bagging_temperature': 0.5420657726416267, 'loss_function': 'Logloss', 'grow_policy': 'Lossguide', 'eval_metric': 'AUC'}. Best is trial 20 with value: 0.9535339756159945.\n",
      "[I 2024-12-18 18:47:02,668] Trial 21 finished with value: 0.9529371642936312 and parameters: {'iterations': 656, 'depth': 8, 'learning_rate': 0.01073997840002527, 'l2_leaf_reg': 3.526384070761804, 'border_count': 219, 'random_strength': 0.5704884007961234, 'bagging_temperature': 0.5651759379594556, 'loss_function': 'Logloss', 'grow_policy': 'Lossguide', 'eval_metric': 'AUC'}. Best is trial 20 with value: 0.9535339756159945.\n",
      "[I 2024-12-18 18:48:15,674] Trial 22 finished with value: 0.9530224230539688 and parameters: {'iterations': 773, 'depth': 9, 'learning_rate': 0.07513132781051352, 'l2_leaf_reg': 9.337885219672394, 'border_count': 255, 'random_strength': 0.184872786488121, 'bagging_temperature': 0.40656417233257924, 'loss_function': 'Logloss', 'grow_policy': 'Lossguide', 'eval_metric': 'AUC'}. Best is trial 20 with value: 0.9535339756159945.\n",
      "[I 2024-12-18 18:51:02,280] Trial 23 finished with value: 0.9533634580953193 and parameters: {'iterations': 1000, 'depth': 7, 'learning_rate': 0.012173643983340926, 'l2_leaf_reg': 1.0182853961389038, 'border_count': 195, 'random_strength': 1.1339688725042532, 'bagging_temperature': 0.8336551501534694, 'loss_function': 'Logloss', 'grow_policy': 'Lossguide', 'eval_metric': 'AUC'}. Best is trial 20 with value: 0.9535339756159945.\n",
      "[I 2024-12-18 18:53:31,763] Trial 24 finished with value: 0.9508056952851905 and parameters: {'iterations': 982, 'depth': 7, 'learning_rate': 0.011132975938495805, 'l2_leaf_reg': 2.0254472080459633, 'border_count': 197, 'random_strength': 3.7628317493779413, 'bagging_temperature': 0.8885153317000571, 'loss_function': 'Logloss', 'grow_policy': 'Lossguide', 'eval_metric': 'AUC'}. Best is trial 20 with value: 0.9535339756159945.\n",
      "[I 2024-12-18 18:55:47,066] Trial 25 finished with value: 0.9519140591695797 and parameters: {'iterations': 810, 'depth': 7, 'learning_rate': 0.006424974393325689, 'l2_leaf_reg': 1.077003064133404, 'border_count': 154, 'random_strength': 1.0014984878516453, 'bagging_temperature': 0.8124739542557518, 'loss_function': 'Logloss', 'grow_policy': 'Lossguide', 'eval_metric': 'AUC'}. Best is trial 20 with value: 0.9535339756159945.\n",
      "[I 2024-12-18 18:58:11,391] Trial 26 finished with value: 0.9450933583425697 and parameters: {'iterations': 997, 'depth': 6, 'learning_rate': 0.0037624166518258595, 'l2_leaf_reg': 2.8451531081137005, 'border_count': 190, 'random_strength': 4.409218021783756, 'bagging_temperature': 0.9909623277633368, 'loss_function': 'Logloss', 'grow_policy': 'Lossguide', 'eval_metric': 'AUC'}. Best is trial 20 with value: 0.9535339756159945.\n",
      "[I 2024-12-18 18:59:58,178] Trial 27 finished with value: 0.9535339756159945 and parameters: {'iterations': 607, 'depth': 8, 'learning_rate': 0.017215291316567006, 'l2_leaf_reg': 5.158914301815374, 'border_count': 155, 'random_strength': 0.7465303548748106, 'bagging_temperature': 0.6812904204998022, 'loss_function': 'Logloss', 'grow_policy': 'Lossguide', 'eval_metric': 'AUC'}. Best is trial 20 with value: 0.9535339756159945.\n",
      "[I 2024-12-18 19:01:57,759] Trial 28 finished with value: 0.9532781993349817 and parameters: {'iterations': 642, 'depth': 8, 'learning_rate': 0.015258592793442412, 'l2_leaf_reg': 1.1799549129642293, 'border_count': 120, 'random_strength': 0.6165782413490878, 'bagging_temperature': 0.6805469238977865, 'loss_function': 'Logloss', 'grow_policy': 'Lossguide', 'eval_metric': 'AUC'}. Best is trial 20 with value: 0.9535339756159945.\n",
      "[I 2024-12-18 19:03:52,625] Trial 29 finished with value: 0.9519140591695797 and parameters: {'iterations': 592, 'depth': 8, 'learning_rate': 0.00885467778021213, 'l2_leaf_reg': 5.194662598481276, 'border_count': 155, 'random_strength': 0.17309962392980863, 'bagging_temperature': 0.9078641663775682, 'loss_function': 'Logloss', 'grow_policy': 'Lossguide', 'eval_metric': 'AUC'}. Best is trial 20 with value: 0.9535339756159945.\n",
      "[I 2024-12-18 19:06:11,372] Trial 30 finished with value: 0.9532781993349817 and parameters: {'iterations': 720, 'depth': 9, 'learning_rate': 0.02694030543621465, 'l2_leaf_reg': 2.142812352817205, 'border_count': 181, 'random_strength': 1.8782003363517596, 'bagging_temperature': 0.7680387495891565, 'loss_function': 'Logloss', 'grow_policy': 'Lossguide', 'eval_metric': 'AUC'}. Best is trial 20 with value: 0.9535339756159945.\n",
      "[I 2024-12-18 19:07:20,982] Trial 31 finished with value: 0.9519993179299173 and parameters: {'iterations': 398, 'depth': 7, 'learning_rate': 0.016022559707129787, 'l2_leaf_reg': 5.852705978924397, 'border_count': 161, 'random_strength': 0.9271663040801364, 'bagging_temperature': 0.5491759952763132, 'loss_function': 'Logloss', 'grow_policy': 'Lossguide', 'eval_metric': 'AUC'}. Best is trial 20 with value: 0.9535339756159945.\n",
      "[I 2024-12-18 19:08:47,324] Trial 32 finished with value: 0.9515730241282292 and parameters: {'iterations': 464, 'depth': 8, 'learning_rate': 0.007357391972565728, 'l2_leaf_reg': 3.117128530663824, 'border_count': 234, 'random_strength': 0.5790062156889382, 'bagging_temperature': 0.6410550301481374, 'loss_function': 'Logloss', 'grow_policy': 'Lossguide', 'eval_metric': 'AUC'}. Best is trial 20 with value: 0.9535339756159945.\n",
      "[I 2024-12-18 19:10:25,240] Trial 33 finished with value: 0.9531929405746441 and parameters: {'iterations': 579, 'depth': 7, 'learning_rate': 0.01975063826488982, 'l2_leaf_reg': 0.746673569957919, 'border_count': 205, 'random_strength': 1.5195806459034895, 'bagging_temperature': 0.5364864700453519, 'loss_function': 'Logloss', 'grow_policy': 'Lossguide', 'eval_metric': 'AUC'}. Best is trial 20 with value: 0.9535339756159945.\n",
      "[I 2024-12-18 19:12:13,859] Trial 34 finished with value: 0.9530224230539688 and parameters: {'iterations': 840, 'depth': 8, 'learning_rate': 0.035392071300938376, 'l2_leaf_reg': 6.6606260851098265, 'border_count': 135, 'random_strength': 0.1870029008881996, 'bagging_temperature': 0.7263612905581317, 'loss_function': 'Logloss', 'grow_policy': 'Lossguide', 'eval_metric': 'AUC'}. Best is trial 20 with value: 0.9535339756159945.\n",
      "[I 2024-12-18 19:13:27,567] Trial 35 finished with value: 0.95046466024384 and parameters: {'iterations': 496, 'depth': 6, 'learning_rate': 0.0038913985866146734, 'l2_leaf_reg': 2.849254923129293, 'border_count': 109, 'random_strength': 0.25863659530812405, 'bagging_temperature': 0.01819681343475088, 'loss_function': 'Logloss', 'grow_policy': 'Lossguide', 'eval_metric': 'AUC'}. Best is trial 20 with value: 0.9535339756159945.\n",
      "[I 2024-12-18 19:15:26,785] Trial 36 finished with value: 0.9481626737147242 and parameters: {'iterations': 754, 'depth': 7, 'learning_rate': 0.013739722259956849, 'l2_leaf_reg': 1.5092528415981152, 'border_count': 182, 'random_strength': 5.247490352724512, 'bagging_temperature': 0.617365726379513, 'loss_function': 'Logloss', 'grow_policy': 'Lossguide', 'eval_metric': 'AUC'}. Best is trial 20 with value: 0.9535339756159945.\n",
      "[I 2024-12-18 19:16:19,053] Trial 37 finished with value: 0.9413419728877143 and parameters: {'iterations': 362, 'depth': 5, 'learning_rate': 0.0027399315036453543, 'l2_leaf_reg': 9.9917891356795, 'border_count': 147, 'random_strength': 0.03834246774546167, 'bagging_temperature': 0.82536751323502, 'loss_function': 'Logloss', 'grow_policy': 'Lossguide', 'eval_metric': 'AUC'}. Best is trial 20 with value: 0.9535339756159945.\n",
      "[I 2024-12-18 19:16:48,716] Trial 38 finished with value: 0.9515730241282292 and parameters: {'iterations': 187, 'depth': 8, 'learning_rate': 0.021241745824337816, 'l2_leaf_reg': 0.7734361160533757, 'border_count': 229, 'random_strength': 0.6419881933459605, 'bagging_temperature': 0.509626854932871, 'loss_function': 'Logloss', 'grow_policy': 'Lossguide', 'eval_metric': 'AUC'}. Best is trial 20 with value: 0.9535339756159945.\n",
      "[I 2024-12-18 19:17:19,556] Trial 39 finished with value: 0.9380168812345469 and parameters: {'iterations': 922, 'depth': 9, 'learning_rate': 0.001233789536938522, 'l2_leaf_reg': 0.4006592259450537, 'border_count': 197, 'random_strength': 2.6303074884395654, 'bagging_temperature': 0.40427864329433033, 'loss_function': 'Logloss', 'grow_policy': 'Lossguide', 'eval_metric': 'AUC'}. Best is trial 20 with value: 0.9535339756159945.\n",
      "[I 2024-12-18 19:19:15,912] Trial 40 finished with value: 0.952510870491943 and parameters: {'iterations': 635, 'depth': 7, 'learning_rate': 0.008076769285143203, 'l2_leaf_reg': 4.461065665102176, 'border_count': 213, 'random_strength': 0.10617831711429555, 'bagging_temperature': 0.917195198174887, 'loss_function': 'Logloss', 'grow_policy': 'Lossguide', 'eval_metric': 'AUC'}. Best is trial 20 with value: 0.9535339756159945.\n",
      "[I 2024-12-18 19:19:52,891] Trial 41 finished with value: 0.9520845766902549 and parameters: {'iterations': 232, 'depth': 10, 'learning_rate': 0.17737281816396958, 'l2_leaf_reg': 0.8380040066144563, 'border_count': 230, 'random_strength': 0.4349343424838766, 'bagging_temperature': 0.6908343443337268, 'loss_function': 'Logloss', 'grow_policy': 'Lossguide', 'eval_metric': 'AUC'}. Best is trial 20 with value: 0.9535339756159945.\n",
      "[I 2024-12-18 19:20:45,275] Trial 42 finished with value: 0.9528519055332936 and parameters: {'iterations': 558, 'depth': 8, 'learning_rate': 0.09935067251136719, 'l2_leaf_reg': 0.22035082023047645, 'border_count': 172, 'random_strength': 0.28741830149041464, 'bagging_temperature': 0.4338478346215202, 'loss_function': 'Logloss', 'grow_policy': 'Lossguide', 'eval_metric': 'AUC'}. Best is trial 20 with value: 0.9535339756159945.\n",
      "[I 2024-12-18 19:22:58,487] Trial 43 finished with value: 0.9502088839628272 and parameters: {'iterations': 693, 'depth': 10, 'learning_rate': 0.00512710678822769, 'l2_leaf_reg': 0.15473475744881904, 'border_count': 56, 'random_strength': 1.6497730661755514, 'bagging_temperature': 0.5920488936471499, 'loss_function': 'Logloss', 'grow_policy': 'Lossguide', 'eval_metric': 'AUC'}. Best is trial 20 with value: 0.9535339756159945.\n",
      "[I 2024-12-18 19:24:08,493] Trial 44 finished with value: 0.9522550942109301 and parameters: {'iterations': 477, 'depth': 6, 'learning_rate': 0.05802401856989927, 'l2_leaf_reg': 0.4428692000215339, 'border_count': 241, 'random_strength': 0.8292954546385474, 'bagging_temperature': 0.2538887537004092, 'loss_function': 'Logloss', 'grow_policy': 'Lossguide', 'eval_metric': 'AUC'}. Best is trial 20 with value: 0.9535339756159945.\n",
      "[I 2024-12-18 19:25:53,446] Trial 45 finished with value: 0.9534487168556569 and parameters: {'iterations': 535, 'depth': 9, 'learning_rate': 0.03311580655563482, 'l2_leaf_reg': 5.6169112558006145, 'border_count': 192, 'random_strength': 0.4869274449308165, 'bagging_temperature': 0.5187722251452157, 'loss_function': 'Logloss', 'grow_policy': 'Lossguide', 'eval_metric': 'AUC'}. Best is trial 20 with value: 0.9535339756159945.\n",
      "[I 2024-12-18 19:26:20,170] Trial 46 finished with value: 0.9516582828885668 and parameters: {'iterations': 160, 'depth': 9, 'learning_rate': 0.03277674208585293, 'l2_leaf_reg': 5.92752689705059, 'border_count': 192, 'random_strength': 1.422997816799746, 'bagging_temperature': 0.5208674738677672, 'loss_function': 'Logloss', 'grow_policy': 'Lossguide', 'eval_metric': 'AUC'}. Best is trial 20 with value: 0.9535339756159945.\n",
      "[I 2024-12-18 19:27:57,064] Trial 47 finished with value: 0.9536192343763321 and parameters: {'iterations': 533, 'depth': 8, 'learning_rate': 0.04122611042070721, 'l2_leaf_reg': 3.562136493550602, 'border_count': 178, 'random_strength': 0.006204084998060666, 'bagging_temperature': 0.7414746060270054, 'loss_function': 'Logloss', 'grow_policy': 'Lossguide', 'eval_metric': 'AUC'}. Best is trial 47 with value: 0.9536192343763321.\n",
      "[I 2024-12-18 19:29:36,971] Trial 48 finished with value: 0.9536192343763321 and parameters: {'iterations': 533, 'depth': 9, 'learning_rate': 0.040376762891512, 'l2_leaf_reg': 2.3365098388514114, 'border_count': 178, 'random_strength': 0.0013718923958085073, 'bagging_temperature': 0.7530671848690396, 'loss_function': 'Logloss', 'grow_policy': 'Lossguide', 'eval_metric': 'AUC'}. Best is trial 47 with value: 0.9536192343763321.\n",
      "[I 2024-12-18 19:31:15,229] Trial 49 finished with value: 0.9530224230539688 and parameters: {'iterations': 534, 'depth': 9, 'learning_rate': 0.03954509059715, 'l2_leaf_reg': 2.3366954354024996, 'border_count': 176, 'random_strength': 0.0010713306481602717, 'bagging_temperature': 0.7630935093647778, 'loss_function': 'Logloss', 'grow_policy': 'Lossguide', 'eval_metric': 'AUC'}. Best is trial 47 with value: 0.9536192343763321.\n"
     ]
    }
   ],
   "source": [
    "import optuna\n",
    "study = optuna.create_study(direction=\"maximize\")\n",
    "study.optimize(objective, n_trials=50)"
   ]
  },
  {
   "cell_type": "code",
   "execution_count": 35,
   "metadata": {},
   "outputs": [
    {
     "name": "stdout",
     "output_type": "stream",
     "text": [
      "Best trial:\n",
      "  Value: 0.9536192343763321\n",
      "  Params: \n"
     ]
    }
   ],
   "source": [
    "print(\"Best trial:\")\n",
    "trial = study.best_trial\n",
    "print(f\"  Value: {trial.value}\")\n",
    "print(\"  Params: \")"
   ]
  },
  {
   "cell_type": "code",
   "execution_count": 36,
   "metadata": {},
   "outputs": [
    {
     "name": "stdout",
     "output_type": "stream",
     "text": [
      "    iterations: 533\n",
      "    depth: 8\n",
      "    learning_rate: 0.04122611042070721\n",
      "    l2_leaf_reg: 3.562136493550602\n",
      "    border_count: 178\n",
      "    random_strength: 0.006204084998060666\n",
      "    bagging_temperature: 0.7414746060270054\n",
      "    loss_function: Logloss\n",
      "    grow_policy: Lossguide\n",
      "    eval_metric: AUC\n"
     ]
    }
   ],
   "source": [
    "for key, value in trial.params.items():\n",
    "    print(f\"    {key}: {value}\")"
   ]
  },
  {
   "cell_type": "code",
   "execution_count": 37,
   "metadata": {},
   "outputs": [],
   "source": [
    "catboost_params ={\n",
    "    'iterations': 533,\n",
    "    'depth': 8,\n",
    "    'learning_rate': 0.04122611042070721,\n",
    "    'l2_leaf_reg': 3.562136493550602,\n",
    "    'border_count': 178,\n",
    "    'random_strength': 0.006204084998060666,\n",
    "    'bagging_temperature': 0.7414746060270054,\n",
    "    'loss_function': \"Logloss\",\n",
    "    'grow_policy': \"Lossguide\",\n",
    "    'eval_metric': \"AUC\"\n",
    "    }"
   ]
  },
  {
   "cell_type": "code",
   "execution_count": 39,
   "metadata": {
    "colab": {
     "base_uri": "https://localhost:8080/"
    },
    "id": "v-RYNqkXSeph",
    "outputId": "ad1a81ac-471e-4ad6-8b94-f5d0e54d2f79"
   },
   "outputs": [
    {
     "name": "stdout",
     "output_type": "stream",
     "text": [
      "0:\ttotal: 404ms\tremaining: 3m 34s\n",
      "1:\ttotal: 599ms\tremaining: 2m 39s\n",
      "2:\ttotal: 839ms\tremaining: 2m 28s\n",
      "3:\ttotal: 1.14s\tremaining: 2m 30s\n",
      "4:\ttotal: 1.31s\tremaining: 2m 18s\n",
      "5:\ttotal: 1.49s\tremaining: 2m 11s\n",
      "6:\ttotal: 1.68s\tremaining: 2m 5s\n",
      "7:\ttotal: 1.91s\tremaining: 2m 5s\n",
      "8:\ttotal: 2.1s\tremaining: 2m 2s\n",
      "9:\ttotal: 2.28s\tremaining: 1m 59s\n",
      "10:\ttotal: 2.5s\tremaining: 1m 58s\n",
      "11:\ttotal: 2.7s\tremaining: 1m 57s\n",
      "12:\ttotal: 2.92s\tremaining: 1m 56s\n",
      "13:\ttotal: 3.12s\tremaining: 1m 55s\n",
      "14:\ttotal: 3.4s\tremaining: 1m 57s\n",
      "15:\ttotal: 3.59s\tremaining: 1m 56s\n",
      "16:\ttotal: 3.77s\tremaining: 1m 54s\n",
      "17:\ttotal: 3.96s\tremaining: 1m 53s\n",
      "18:\ttotal: 4.15s\tremaining: 1m 52s\n",
      "19:\ttotal: 4.35s\tremaining: 1m 51s\n",
      "20:\ttotal: 4.53s\tremaining: 1m 50s\n",
      "21:\ttotal: 4.7s\tremaining: 1m 49s\n",
      "22:\ttotal: 4.9s\tremaining: 1m 48s\n",
      "23:\ttotal: 5.09s\tremaining: 1m 47s\n",
      "24:\ttotal: 5.28s\tremaining: 1m 47s\n",
      "25:\ttotal: 5.75s\tremaining: 1m 52s\n",
      "26:\ttotal: 5.93s\tremaining: 1m 51s\n",
      "27:\ttotal: 6.3s\tremaining: 1m 53s\n",
      "28:\ttotal: 6.5s\tremaining: 1m 52s\n",
      "29:\ttotal: 6.68s\tremaining: 1m 51s\n",
      "30:\ttotal: 6.87s\tremaining: 1m 51s\n",
      "31:\ttotal: 7.04s\tremaining: 1m 50s\n",
      "32:\ttotal: 7.24s\tremaining: 1m 49s\n",
      "33:\ttotal: 7.59s\tremaining: 1m 51s\n",
      "34:\ttotal: 7.76s\tremaining: 1m 50s\n",
      "35:\ttotal: 7.95s\tremaining: 1m 49s\n",
      "36:\ttotal: 8.14s\tremaining: 1m 49s\n",
      "37:\ttotal: 8.33s\tremaining: 1m 48s\n",
      "38:\ttotal: 8.53s\tremaining: 1m 48s\n",
      "39:\ttotal: 8.72s\tremaining: 1m 47s\n",
      "40:\ttotal: 8.91s\tremaining: 1m 46s\n",
      "41:\ttotal: 9.11s\tremaining: 1m 46s\n",
      "42:\ttotal: 9.27s\tremaining: 1m 45s\n",
      "43:\ttotal: 9.45s\tremaining: 1m 45s\n",
      "44:\ttotal: 9.63s\tremaining: 1m 44s\n",
      "45:\ttotal: 9.83s\tremaining: 1m 44s\n",
      "46:\ttotal: 10s\tremaining: 1m 43s\n",
      "47:\ttotal: 10.2s\tremaining: 1m 43s\n",
      "48:\ttotal: 10.4s\tremaining: 1m 42s\n",
      "49:\ttotal: 10.6s\tremaining: 1m 42s\n",
      "50:\ttotal: 10.8s\tremaining: 1m 41s\n",
      "51:\ttotal: 10.9s\tremaining: 1m 41s\n",
      "52:\ttotal: 11.1s\tremaining: 1m 40s\n",
      "53:\ttotal: 11.3s\tremaining: 1m 40s\n",
      "54:\ttotal: 11.5s\tremaining: 1m 40s\n",
      "55:\ttotal: 11.7s\tremaining: 1m 39s\n",
      "56:\ttotal: 12.3s\tremaining: 1m 42s\n",
      "57:\ttotal: 12.5s\tremaining: 1m 42s\n",
      "58:\ttotal: 12.7s\tremaining: 1m 41s\n",
      "59:\ttotal: 12.9s\tremaining: 1m 41s\n",
      "60:\ttotal: 13.1s\tremaining: 1m 41s\n",
      "61:\ttotal: 13.2s\tremaining: 1m 40s\n",
      "62:\ttotal: 13.4s\tremaining: 1m 40s\n",
      "63:\ttotal: 13.6s\tremaining: 1m 39s\n",
      "64:\ttotal: 13.8s\tremaining: 1m 39s\n",
      "65:\ttotal: 14s\tremaining: 1m 38s\n",
      "66:\ttotal: 14.1s\tremaining: 1m 38s\n",
      "67:\ttotal: 14.3s\tremaining: 1m 38s\n",
      "68:\ttotal: 14.5s\tremaining: 1m 37s\n",
      "69:\ttotal: 14.7s\tremaining: 1m 37s\n",
      "70:\ttotal: 14.9s\tremaining: 1m 36s\n",
      "71:\ttotal: 15s\tremaining: 1m 36s\n",
      "72:\ttotal: 15.2s\tremaining: 1m 35s\n",
      "73:\ttotal: 15.4s\tremaining: 1m 35s\n",
      "74:\ttotal: 15.6s\tremaining: 1m 35s\n",
      "75:\ttotal: 15.8s\tremaining: 1m 34s\n",
      "76:\ttotal: 16s\tremaining: 1m 34s\n",
      "77:\ttotal: 16.2s\tremaining: 1m 34s\n",
      "78:\ttotal: 16.3s\tremaining: 1m 33s\n",
      "79:\ttotal: 16.5s\tremaining: 1m 33s\n",
      "80:\ttotal: 16.7s\tremaining: 1m 33s\n",
      "81:\ttotal: 16.9s\tremaining: 1m 32s\n",
      "82:\ttotal: 17.1s\tremaining: 1m 32s\n",
      "83:\ttotal: 17.3s\tremaining: 1m 32s\n",
      "84:\ttotal: 17.4s\tremaining: 1m 31s\n",
      "85:\ttotal: 17.6s\tremaining: 1m 31s\n",
      "86:\ttotal: 17.8s\tremaining: 1m 31s\n",
      "87:\ttotal: 18s\tremaining: 1m 31s\n",
      "88:\ttotal: 18.2s\tremaining: 1m 30s\n",
      "89:\ttotal: 18.4s\tremaining: 1m 30s\n",
      "90:\ttotal: 18.6s\tremaining: 1m 30s\n",
      "91:\ttotal: 18.7s\tremaining: 1m 29s\n",
      "92:\ttotal: 18.9s\tremaining: 1m 29s\n",
      "93:\ttotal: 19.1s\tremaining: 1m 29s\n",
      "94:\ttotal: 19.3s\tremaining: 1m 29s\n",
      "95:\ttotal: 19.5s\tremaining: 1m 28s\n",
      "96:\ttotal: 19.7s\tremaining: 1m 28s\n",
      "97:\ttotal: 19.9s\tremaining: 1m 28s\n",
      "98:\ttotal: 20.1s\tremaining: 1m 27s\n",
      "99:\ttotal: 20.2s\tremaining: 1m 27s\n",
      "100:\ttotal: 20.4s\tremaining: 1m 27s\n",
      "101:\ttotal: 20.6s\tremaining: 1m 27s\n",
      "102:\ttotal: 20.8s\tremaining: 1m 26s\n",
      "103:\ttotal: 21s\tremaining: 1m 26s\n",
      "104:\ttotal: 21.2s\tremaining: 1m 26s\n",
      "105:\ttotal: 21.4s\tremaining: 1m 26s\n",
      "106:\ttotal: 21.5s\tremaining: 1m 25s\n",
      "107:\ttotal: 21.7s\tremaining: 1m 25s\n",
      "108:\ttotal: 21.9s\tremaining: 1m 25s\n",
      "109:\ttotal: 22.1s\tremaining: 1m 24s\n",
      "110:\ttotal: 22.3s\tremaining: 1m 24s\n",
      "111:\ttotal: 22.5s\tremaining: 1m 24s\n",
      "112:\ttotal: 22.7s\tremaining: 1m 24s\n",
      "113:\ttotal: 22.8s\tremaining: 1m 23s\n",
      "114:\ttotal: 23s\tremaining: 1m 23s\n",
      "115:\ttotal: 23.2s\tremaining: 1m 23s\n",
      "116:\ttotal: 23.4s\tremaining: 1m 23s\n",
      "117:\ttotal: 23.6s\tremaining: 1m 22s\n",
      "118:\ttotal: 23.8s\tremaining: 1m 22s\n",
      "119:\ttotal: 23.9s\tremaining: 1m 22s\n",
      "120:\ttotal: 24.1s\tremaining: 1m 22s\n",
      "121:\ttotal: 24.4s\tremaining: 1m 22s\n",
      "122:\ttotal: 24.6s\tremaining: 1m 21s\n",
      "123:\ttotal: 24.8s\tremaining: 1m 21s\n",
      "124:\ttotal: 24.9s\tremaining: 1m 21s\n",
      "125:\ttotal: 25.1s\tremaining: 1m 21s\n",
      "126:\ttotal: 25.3s\tremaining: 1m 20s\n",
      "127:\ttotal: 25.6s\tremaining: 1m 20s\n",
      "128:\ttotal: 25.7s\tremaining: 1m 20s\n",
      "129:\ttotal: 25.9s\tremaining: 1m 20s\n",
      "130:\ttotal: 26.1s\tremaining: 1m 20s\n",
      "131:\ttotal: 26.3s\tremaining: 1m 19s\n",
      "132:\ttotal: 26.5s\tremaining: 1m 19s\n",
      "133:\ttotal: 26.7s\tremaining: 1m 19s\n",
      "134:\ttotal: 26.8s\tremaining: 1m 19s\n",
      "135:\ttotal: 27s\tremaining: 1m 18s\n",
      "136:\ttotal: 27.2s\tremaining: 1m 18s\n",
      "137:\ttotal: 27.4s\tremaining: 1m 18s\n",
      "138:\ttotal: 27.6s\tremaining: 1m 18s\n",
      "139:\ttotal: 27.8s\tremaining: 1m 18s\n",
      "140:\ttotal: 28s\tremaining: 1m 17s\n",
      "141:\ttotal: 28.2s\tremaining: 1m 17s\n",
      "142:\ttotal: 28.4s\tremaining: 1m 17s\n",
      "143:\ttotal: 28.5s\tremaining: 1m 17s\n",
      "144:\ttotal: 28.7s\tremaining: 1m 16s\n",
      "145:\ttotal: 28.9s\tremaining: 1m 16s\n",
      "146:\ttotal: 29.1s\tremaining: 1m 16s\n",
      "147:\ttotal: 29.3s\tremaining: 1m 16s\n",
      "148:\ttotal: 29.5s\tremaining: 1m 15s\n",
      "149:\ttotal: 29.7s\tremaining: 1m 15s\n",
      "150:\ttotal: 29.8s\tremaining: 1m 15s\n",
      "151:\ttotal: 30s\tremaining: 1m 15s\n",
      "152:\ttotal: 30.2s\tremaining: 1m 15s\n",
      "153:\ttotal: 30.4s\tremaining: 1m 14s\n",
      "154:\ttotal: 30.6s\tremaining: 1m 14s\n",
      "155:\ttotal: 30.8s\tremaining: 1m 14s\n",
      "156:\ttotal: 30.9s\tremaining: 1m 14s\n",
      "157:\ttotal: 31.1s\tremaining: 1m 13s\n",
      "158:\ttotal: 31.3s\tremaining: 1m 13s\n",
      "159:\ttotal: 31.5s\tremaining: 1m 13s\n",
      "160:\ttotal: 31.7s\tremaining: 1m 13s\n",
      "161:\ttotal: 31.8s\tremaining: 1m 12s\n",
      "162:\ttotal: 32s\tremaining: 1m 12s\n",
      "163:\ttotal: 32.2s\tremaining: 1m 12s\n",
      "164:\ttotal: 32.4s\tremaining: 1m 12s\n",
      "165:\ttotal: 32.6s\tremaining: 1m 11s\n",
      "166:\ttotal: 32.7s\tremaining: 1m 11s\n",
      "167:\ttotal: 32.9s\tremaining: 1m 11s\n",
      "168:\ttotal: 33.1s\tremaining: 1m 11s\n",
      "169:\ttotal: 33.3s\tremaining: 1m 11s\n",
      "170:\ttotal: 33.5s\tremaining: 1m 10s\n",
      "171:\ttotal: 33.7s\tremaining: 1m 10s\n",
      "172:\ttotal: 33.9s\tremaining: 1m 10s\n",
      "173:\ttotal: 34s\tremaining: 1m 10s\n",
      "174:\ttotal: 34.2s\tremaining: 1m 10s\n",
      "175:\ttotal: 34.4s\tremaining: 1m 9s\n",
      "176:\ttotal: 34.6s\tremaining: 1m 9s\n",
      "177:\ttotal: 34.8s\tremaining: 1m 9s\n",
      "178:\ttotal: 35.1s\tremaining: 1m 9s\n",
      "179:\ttotal: 35.3s\tremaining: 1m 9s\n",
      "180:\ttotal: 35.5s\tremaining: 1m 8s\n",
      "181:\ttotal: 35.6s\tremaining: 1m 8s\n",
      "182:\ttotal: 35.8s\tremaining: 1m 8s\n",
      "183:\ttotal: 36s\tremaining: 1m 8s\n",
      "184:\ttotal: 36.1s\tremaining: 1m 7s\n",
      "185:\ttotal: 36.3s\tremaining: 1m 7s\n",
      "186:\ttotal: 36.5s\tremaining: 1m 7s\n",
      "187:\ttotal: 36.7s\tremaining: 1m 7s\n",
      "188:\ttotal: 36.9s\tremaining: 1m 7s\n",
      "189:\ttotal: 37s\tremaining: 1m 6s\n",
      "190:\ttotal: 37.2s\tremaining: 1m 6s\n",
      "191:\ttotal: 37.4s\tremaining: 1m 6s\n",
      "192:\ttotal: 37.6s\tremaining: 1m 6s\n",
      "193:\ttotal: 37.8s\tremaining: 1m 5s\n",
      "194:\ttotal: 38s\tremaining: 1m 5s\n",
      "195:\ttotal: 38.1s\tremaining: 1m 5s\n",
      "196:\ttotal: 38.3s\tremaining: 1m 5s\n",
      "197:\ttotal: 38.5s\tremaining: 1m 5s\n",
      "198:\ttotal: 38.7s\tremaining: 1m 4s\n",
      "199:\ttotal: 38.9s\tremaining: 1m 4s\n",
      "200:\ttotal: 39.1s\tremaining: 1m 4s\n",
      "201:\ttotal: 39.3s\tremaining: 1m 4s\n",
      "202:\ttotal: 39.4s\tremaining: 1m 4s\n",
      "203:\ttotal: 39.6s\tremaining: 1m 3s\n",
      "204:\ttotal: 39.8s\tremaining: 1m 3s\n",
      "205:\ttotal: 40s\tremaining: 1m 3s\n",
      "206:\ttotal: 40.2s\tremaining: 1m 3s\n",
      "207:\ttotal: 40.3s\tremaining: 1m 3s\n",
      "208:\ttotal: 40.5s\tremaining: 1m 2s\n",
      "209:\ttotal: 40.7s\tremaining: 1m 2s\n",
      "210:\ttotal: 40.9s\tremaining: 1m 2s\n",
      "211:\ttotal: 41.1s\tremaining: 1m 2s\n",
      "212:\ttotal: 41.3s\tremaining: 1m 2s\n",
      "213:\ttotal: 41.5s\tremaining: 1m 1s\n",
      "214:\ttotal: 41.7s\tremaining: 1m 1s\n",
      "215:\ttotal: 41.9s\tremaining: 1m 1s\n",
      "216:\ttotal: 42s\tremaining: 1m 1s\n",
      "217:\ttotal: 42.2s\tremaining: 1m 1s\n",
      "218:\ttotal: 42.4s\tremaining: 1m\n",
      "219:\ttotal: 42.6s\tremaining: 1m\n",
      "220:\ttotal: 42.8s\tremaining: 1m\n",
      "221:\ttotal: 43s\tremaining: 1m\n",
      "222:\ttotal: 43.2s\tremaining: 1m\n",
      "223:\ttotal: 43.4s\tremaining: 59.9s\n",
      "224:\ttotal: 43.6s\tremaining: 59.7s\n",
      "225:\ttotal: 43.9s\tremaining: 59.6s\n",
      "226:\ttotal: 44.1s\tremaining: 59.5s\n",
      "227:\ttotal: 44.4s\tremaining: 59.4s\n",
      "228:\ttotal: 44.6s\tremaining: 59.2s\n",
      "229:\ttotal: 44.8s\tremaining: 59.1s\n",
      "230:\ttotal: 45.1s\tremaining: 58.9s\n",
      "231:\ttotal: 45.3s\tremaining: 58.8s\n",
      "232:\ttotal: 45.5s\tremaining: 58.6s\n",
      "233:\ttotal: 45.8s\tremaining: 58.5s\n",
      "234:\ttotal: 46s\tremaining: 58.3s\n",
      "235:\ttotal: 46.2s\tremaining: 58.2s\n",
      "236:\ttotal: 46.4s\tremaining: 58s\n",
      "237:\ttotal: 46.7s\tremaining: 57.8s\n",
      "238:\ttotal: 46.9s\tremaining: 57.6s\n",
      "239:\ttotal: 47.1s\tremaining: 57.5s\n",
      "240:\ttotal: 47.3s\tremaining: 57.3s\n",
      "241:\ttotal: 47.5s\tremaining: 57.1s\n",
      "242:\ttotal: 47.7s\tremaining: 56.9s\n",
      "243:\ttotal: 47.9s\tremaining: 56.8s\n",
      "244:\ttotal: 48.1s\tremaining: 56.6s\n",
      "245:\ttotal: 48.3s\tremaining: 56.4s\n",
      "246:\ttotal: 48.5s\tremaining: 56.1s\n",
      "247:\ttotal: 48.7s\tremaining: 56s\n",
      "248:\ttotal: 48.9s\tremaining: 55.7s\n",
      "249:\ttotal: 49.1s\tremaining: 55.6s\n",
      "250:\ttotal: 49.3s\tremaining: 55.4s\n",
      "251:\ttotal: 49.5s\tremaining: 55.2s\n",
      "252:\ttotal: 49.8s\tremaining: 55.1s\n",
      "253:\ttotal: 50s\tremaining: 54.9s\n",
      "254:\ttotal: 50.2s\tremaining: 54.7s\n",
      "255:\ttotal: 50.4s\tremaining: 54.6s\n",
      "256:\ttotal: 50.6s\tremaining: 54.4s\n",
      "257:\ttotal: 50.8s\tremaining: 54.2s\n",
      "258:\ttotal: 51s\tremaining: 54s\n",
      "259:\ttotal: 51.2s\tremaining: 53.8s\n",
      "260:\ttotal: 51.4s\tremaining: 53.6s\n",
      "261:\ttotal: 51.6s\tremaining: 53.4s\n",
      "262:\ttotal: 51.8s\tremaining: 53.2s\n",
      "263:\ttotal: 52s\tremaining: 53s\n",
      "264:\ttotal: 52.1s\tremaining: 52.7s\n",
      "265:\ttotal: 52.3s\tremaining: 52.5s\n",
      "266:\ttotal: 52.5s\tremaining: 52.3s\n",
      "267:\ttotal: 52.7s\tremaining: 52.1s\n",
      "268:\ttotal: 52.9s\tremaining: 51.9s\n",
      "269:\ttotal: 53s\tremaining: 51.7s\n",
      "270:\ttotal: 53.2s\tremaining: 51.4s\n",
      "271:\ttotal: 53.4s\tremaining: 51.2s\n",
      "272:\ttotal: 53.6s\tremaining: 51s\n",
      "273:\ttotal: 53.8s\tremaining: 50.8s\n",
      "274:\ttotal: 54s\tremaining: 50.6s\n",
      "275:\ttotal: 54.1s\tremaining: 50.4s\n",
      "276:\ttotal: 54.3s\tremaining: 50.2s\n",
      "277:\ttotal: 54.5s\tremaining: 50s\n",
      "278:\ttotal: 54.7s\tremaining: 49.8s\n",
      "279:\ttotal: 54.8s\tremaining: 49.5s\n",
      "280:\ttotal: 55s\tremaining: 49.3s\n",
      "281:\ttotal: 55.2s\tremaining: 49.1s\n",
      "282:\ttotal: 55.4s\tremaining: 48.9s\n",
      "283:\ttotal: 55.6s\tremaining: 48.7s\n",
      "284:\ttotal: 55.7s\tremaining: 48.5s\n",
      "285:\ttotal: 55.9s\tremaining: 48.3s\n",
      "286:\ttotal: 56.1s\tremaining: 48.1s\n",
      "287:\ttotal: 56.3s\tremaining: 47.9s\n",
      "288:\ttotal: 56.5s\tremaining: 47.7s\n",
      "289:\ttotal: 56.7s\tremaining: 47.5s\n",
      "290:\ttotal: 56.9s\tremaining: 47.3s\n",
      "291:\ttotal: 57s\tremaining: 47.1s\n",
      "292:\ttotal: 57.2s\tremaining: 46.9s\n",
      "293:\ttotal: 57.4s\tremaining: 46.7s\n",
      "294:\ttotal: 57.6s\tremaining: 46.4s\n",
      "295:\ttotal: 57.7s\tremaining: 46.2s\n",
      "296:\ttotal: 58.1s\tremaining: 46.1s\n",
      "297:\ttotal: 58.2s\tremaining: 45.9s\n",
      "298:\ttotal: 58.4s\tremaining: 45.7s\n",
      "299:\ttotal: 58.6s\tremaining: 45.5s\n",
      "300:\ttotal: 58.8s\tremaining: 45.3s\n",
      "301:\ttotal: 59s\tremaining: 45.1s\n",
      "302:\ttotal: 59.2s\tremaining: 44.9s\n",
      "303:\ttotal: 59.3s\tremaining: 44.7s\n",
      "304:\ttotal: 59.5s\tremaining: 44.5s\n",
      "305:\ttotal: 59.7s\tremaining: 44.3s\n",
      "306:\ttotal: 59.9s\tremaining: 44.1s\n",
      "307:\ttotal: 1m\tremaining: 43.9s\n",
      "308:\ttotal: 1m\tremaining: 43.7s\n",
      "309:\ttotal: 1m\tremaining: 43.5s\n",
      "310:\ttotal: 1m\tremaining: 43.3s\n",
      "311:\ttotal: 1m\tremaining: 43.1s\n",
      "312:\ttotal: 1m 1s\tremaining: 42.9s\n",
      "313:\ttotal: 1m 1s\tremaining: 42.7s\n",
      "314:\ttotal: 1m 1s\tremaining: 42.5s\n",
      "315:\ttotal: 1m 1s\tremaining: 42.2s\n",
      "316:\ttotal: 1m 1s\tremaining: 42s\n",
      "317:\ttotal: 1m 1s\tremaining: 41.9s\n",
      "318:\ttotal: 1m 2s\tremaining: 41.7s\n",
      "319:\ttotal: 1m 2s\tremaining: 41.5s\n",
      "320:\ttotal: 1m 2s\tremaining: 41.3s\n",
      "321:\ttotal: 1m 2s\tremaining: 41.1s\n",
      "322:\ttotal: 1m 2s\tremaining: 40.9s\n",
      "323:\ttotal: 1m 3s\tremaining: 40.7s\n",
      "324:\ttotal: 1m 3s\tremaining: 40.5s\n",
      "325:\ttotal: 1m 3s\tremaining: 40.3s\n",
      "326:\ttotal: 1m 3s\tremaining: 40.1s\n",
      "327:\ttotal: 1m 3s\tremaining: 39.9s\n",
      "328:\ttotal: 1m 4s\tremaining: 39.7s\n",
      "329:\ttotal: 1m 4s\tremaining: 39.6s\n",
      "330:\ttotal: 1m 4s\tremaining: 39.4s\n",
      "331:\ttotal: 1m 4s\tremaining: 39.2s\n",
      "332:\ttotal: 1m 4s\tremaining: 39s\n",
      "333:\ttotal: 1m 5s\tremaining: 38.9s\n",
      "334:\ttotal: 1m 5s\tremaining: 38.7s\n",
      "335:\ttotal: 1m 5s\tremaining: 38.5s\n",
      "336:\ttotal: 1m 5s\tremaining: 38.3s\n",
      "337:\ttotal: 1m 6s\tremaining: 38.1s\n",
      "338:\ttotal: 1m 6s\tremaining: 37.9s\n",
      "339:\ttotal: 1m 6s\tremaining: 37.7s\n",
      "340:\ttotal: 1m 6s\tremaining: 37.5s\n",
      "341:\ttotal: 1m 6s\tremaining: 37.3s\n",
      "342:\ttotal: 1m 7s\tremaining: 37.1s\n",
      "343:\ttotal: 1m 7s\tremaining: 36.9s\n",
      "344:\ttotal: 1m 7s\tremaining: 36.7s\n",
      "345:\ttotal: 1m 7s\tremaining: 36.5s\n",
      "346:\ttotal: 1m 7s\tremaining: 36.3s\n",
      "347:\ttotal: 1m 7s\tremaining: 36.1s\n",
      "348:\ttotal: 1m 8s\tremaining: 35.9s\n",
      "349:\ttotal: 1m 8s\tremaining: 35.7s\n",
      "350:\ttotal: 1m 8s\tremaining: 35.5s\n",
      "351:\ttotal: 1m 8s\tremaining: 35.3s\n",
      "352:\ttotal: 1m 8s\tremaining: 35.1s\n",
      "353:\ttotal: 1m 9s\tremaining: 34.9s\n",
      "354:\ttotal: 1m 9s\tremaining: 34.7s\n",
      "355:\ttotal: 1m 9s\tremaining: 34.5s\n",
      "356:\ttotal: 1m 9s\tremaining: 34.3s\n",
      "357:\ttotal: 1m 9s\tremaining: 34.1s\n",
      "358:\ttotal: 1m 10s\tremaining: 33.9s\n",
      "359:\ttotal: 1m 10s\tremaining: 33.7s\n",
      "360:\ttotal: 1m 10s\tremaining: 33.5s\n",
      "361:\ttotal: 1m 10s\tremaining: 33.3s\n",
      "362:\ttotal: 1m 10s\tremaining: 33.1s\n",
      "363:\ttotal: 1m 10s\tremaining: 32.9s\n",
      "364:\ttotal: 1m 11s\tremaining: 32.7s\n",
      "365:\ttotal: 1m 11s\tremaining: 32.5s\n",
      "366:\ttotal: 1m 11s\tremaining: 32.3s\n",
      "367:\ttotal: 1m 11s\tremaining: 32.1s\n",
      "368:\ttotal: 1m 11s\tremaining: 31.9s\n",
      "369:\ttotal: 1m 11s\tremaining: 31.7s\n",
      "370:\ttotal: 1m 12s\tremaining: 31.5s\n",
      "371:\ttotal: 1m 12s\tremaining: 31.3s\n",
      "372:\ttotal: 1m 12s\tremaining: 31.1s\n",
      "373:\ttotal: 1m 12s\tremaining: 30.9s\n",
      "374:\ttotal: 1m 12s\tremaining: 30.7s\n",
      "375:\ttotal: 1m 13s\tremaining: 30.5s\n",
      "376:\ttotal: 1m 13s\tremaining: 30.3s\n",
      "377:\ttotal: 1m 13s\tremaining: 30.1s\n",
      "378:\ttotal: 1m 13s\tremaining: 29.9s\n",
      "379:\ttotal: 1m 13s\tremaining: 29.7s\n",
      "380:\ttotal: 1m 13s\tremaining: 29.5s\n",
      "381:\ttotal: 1m 14s\tremaining: 29.3s\n",
      "382:\ttotal: 1m 14s\tremaining: 29.1s\n",
      "383:\ttotal: 1m 14s\tremaining: 28.9s\n",
      "384:\ttotal: 1m 14s\tremaining: 28.7s\n",
      "385:\ttotal: 1m 14s\tremaining: 28.5s\n",
      "386:\ttotal: 1m 15s\tremaining: 28.3s\n",
      "387:\ttotal: 1m 15s\tremaining: 28.1s\n",
      "388:\ttotal: 1m 15s\tremaining: 27.9s\n",
      "389:\ttotal: 1m 15s\tremaining: 27.7s\n",
      "390:\ttotal: 1m 15s\tremaining: 27.5s\n",
      "391:\ttotal: 1m 15s\tremaining: 27.3s\n",
      "392:\ttotal: 1m 16s\tremaining: 27.1s\n",
      "393:\ttotal: 1m 16s\tremaining: 26.9s\n",
      "394:\ttotal: 1m 16s\tremaining: 26.7s\n",
      "395:\ttotal: 1m 16s\tremaining: 26.5s\n",
      "396:\ttotal: 1m 16s\tremaining: 26.3s\n",
      "397:\ttotal: 1m 17s\tremaining: 26.1s\n",
      "398:\ttotal: 1m 17s\tremaining: 25.9s\n",
      "399:\ttotal: 1m 17s\tremaining: 25.7s\n",
      "400:\ttotal: 1m 17s\tremaining: 25.5s\n",
      "401:\ttotal: 1m 17s\tremaining: 25.3s\n",
      "402:\ttotal: 1m 17s\tremaining: 25.1s\n",
      "403:\ttotal: 1m 18s\tremaining: 24.9s\n",
      "404:\ttotal: 1m 18s\tremaining: 24.7s\n",
      "405:\ttotal: 1m 18s\tremaining: 24.5s\n",
      "406:\ttotal: 1m 18s\tremaining: 24.3s\n",
      "407:\ttotal: 1m 18s\tremaining: 24.1s\n",
      "408:\ttotal: 1m 18s\tremaining: 23.9s\n",
      "409:\ttotal: 1m 19s\tremaining: 23.7s\n",
      "410:\ttotal: 1m 19s\tremaining: 23.5s\n",
      "411:\ttotal: 1m 19s\tremaining: 23.3s\n",
      "412:\ttotal: 1m 19s\tremaining: 23.2s\n",
      "413:\ttotal: 1m 19s\tremaining: 23s\n",
      "414:\ttotal: 1m 20s\tremaining: 22.8s\n",
      "415:\ttotal: 1m 20s\tremaining: 22.6s\n",
      "416:\ttotal: 1m 20s\tremaining: 22.4s\n",
      "417:\ttotal: 1m 20s\tremaining: 22.2s\n",
      "418:\ttotal: 1m 20s\tremaining: 22s\n",
      "419:\ttotal: 1m 21s\tremaining: 21.8s\n",
      "420:\ttotal: 1m 21s\tremaining: 21.6s\n",
      "421:\ttotal: 1m 21s\tremaining: 21.4s\n",
      "422:\ttotal: 1m 21s\tremaining: 21.2s\n",
      "423:\ttotal: 1m 21s\tremaining: 21s\n",
      "424:\ttotal: 1m 21s\tremaining: 20.8s\n",
      "425:\ttotal: 1m 22s\tremaining: 20.6s\n",
      "426:\ttotal: 1m 22s\tremaining: 20.4s\n",
      "427:\ttotal: 1m 22s\tremaining: 20.2s\n",
      "428:\ttotal: 1m 22s\tremaining: 20s\n",
      "429:\ttotal: 1m 22s\tremaining: 19.8s\n",
      "430:\ttotal: 1m 22s\tremaining: 19.6s\n",
      "431:\ttotal: 1m 23s\tremaining: 19.4s\n",
      "432:\ttotal: 1m 23s\tremaining: 19.2s\n",
      "433:\ttotal: 1m 23s\tremaining: 19s\n",
      "434:\ttotal: 1m 23s\tremaining: 18.8s\n",
      "435:\ttotal: 1m 23s\tremaining: 18.7s\n",
      "436:\ttotal: 1m 24s\tremaining: 18.5s\n",
      "437:\ttotal: 1m 24s\tremaining: 18.3s\n",
      "438:\ttotal: 1m 24s\tremaining: 18.1s\n",
      "439:\ttotal: 1m 24s\tremaining: 17.9s\n",
      "440:\ttotal: 1m 24s\tremaining: 17.7s\n",
      "441:\ttotal: 1m 24s\tremaining: 17.5s\n",
      "442:\ttotal: 1m 25s\tremaining: 17.3s\n",
      "443:\ttotal: 1m 25s\tremaining: 17.1s\n",
      "444:\ttotal: 1m 25s\tremaining: 16.9s\n",
      "445:\ttotal: 1m 25s\tremaining: 16.7s\n",
      "446:\ttotal: 1m 25s\tremaining: 16.5s\n",
      "447:\ttotal: 1m 25s\tremaining: 16.3s\n",
      "448:\ttotal: 1m 26s\tremaining: 16.1s\n",
      "449:\ttotal: 1m 26s\tremaining: 15.9s\n",
      "450:\ttotal: 1m 26s\tremaining: 15.7s\n",
      "451:\ttotal: 1m 26s\tremaining: 15.5s\n",
      "452:\ttotal: 1m 26s\tremaining: 15.3s\n",
      "453:\ttotal: 1m 27s\tremaining: 15.1s\n",
      "454:\ttotal: 1m 27s\tremaining: 14.9s\n",
      "455:\ttotal: 1m 27s\tremaining: 14.8s\n",
      "456:\ttotal: 1m 27s\tremaining: 14.6s\n",
      "457:\ttotal: 1m 27s\tremaining: 14.4s\n",
      "458:\ttotal: 1m 27s\tremaining: 14.2s\n",
      "459:\ttotal: 1m 28s\tremaining: 14s\n",
      "460:\ttotal: 1m 28s\tremaining: 13.8s\n",
      "461:\ttotal: 1m 28s\tremaining: 13.6s\n",
      "462:\ttotal: 1m 28s\tremaining: 13.4s\n",
      "463:\ttotal: 1m 29s\tremaining: 13.2s\n",
      "464:\ttotal: 1m 29s\tremaining: 13.1s\n",
      "465:\ttotal: 1m 29s\tremaining: 12.9s\n",
      "466:\ttotal: 1m 29s\tremaining: 12.7s\n",
      "467:\ttotal: 1m 29s\tremaining: 12.5s\n",
      "468:\ttotal: 1m 30s\tremaining: 12.3s\n",
      "469:\ttotal: 1m 30s\tremaining: 12.1s\n",
      "470:\ttotal: 1m 30s\tremaining: 11.9s\n",
      "471:\ttotal: 1m 30s\tremaining: 11.7s\n",
      "472:\ttotal: 1m 30s\tremaining: 11.5s\n",
      "473:\ttotal: 1m 31s\tremaining: 11.3s\n",
      "474:\ttotal: 1m 31s\tremaining: 11.2s\n",
      "475:\ttotal: 1m 31s\tremaining: 11s\n",
      "476:\ttotal: 1m 31s\tremaining: 10.8s\n",
      "477:\ttotal: 1m 32s\tremaining: 10.6s\n",
      "478:\ttotal: 1m 32s\tremaining: 10.4s\n",
      "479:\ttotal: 1m 32s\tremaining: 10.2s\n",
      "480:\ttotal: 1m 32s\tremaining: 10s\n",
      "481:\ttotal: 1m 32s\tremaining: 9.82s\n",
      "482:\ttotal: 1m 32s\tremaining: 9.62s\n",
      "483:\ttotal: 1m 33s\tremaining: 9.43s\n",
      "484:\ttotal: 1m 33s\tremaining: 9.24s\n",
      "485:\ttotal: 1m 33s\tremaining: 9.05s\n",
      "486:\ttotal: 1m 33s\tremaining: 8.86s\n",
      "487:\ttotal: 1m 33s\tremaining: 8.66s\n",
      "488:\ttotal: 1m 34s\tremaining: 8.47s\n",
      "489:\ttotal: 1m 34s\tremaining: 8.29s\n",
      "490:\ttotal: 1m 34s\tremaining: 8.1s\n",
      "491:\ttotal: 1m 34s\tremaining: 7.91s\n",
      "492:\ttotal: 1m 35s\tremaining: 7.72s\n",
      "493:\ttotal: 1m 35s\tremaining: 7.52s\n",
      "494:\ttotal: 1m 35s\tremaining: 7.33s\n",
      "495:\ttotal: 1m 35s\tremaining: 7.14s\n",
      "496:\ttotal: 1m 35s\tremaining: 6.94s\n",
      "497:\ttotal: 1m 36s\tremaining: 6.75s\n",
      "498:\ttotal: 1m 36s\tremaining: 6.55s\n",
      "499:\ttotal: 1m 36s\tremaining: 6.36s\n",
      "500:\ttotal: 1m 36s\tremaining: 6.17s\n",
      "501:\ttotal: 1m 36s\tremaining: 5.97s\n",
      "502:\ttotal: 1m 37s\tremaining: 5.8s\n",
      "503:\ttotal: 1m 37s\tremaining: 5.61s\n",
      "504:\ttotal: 1m 37s\tremaining: 5.41s\n",
      "505:\ttotal: 1m 37s\tremaining: 5.22s\n",
      "506:\ttotal: 1m 38s\tremaining: 5.03s\n",
      "507:\ttotal: 1m 38s\tremaining: 4.83s\n",
      "508:\ttotal: 1m 38s\tremaining: 4.64s\n",
      "509:\ttotal: 1m 38s\tremaining: 4.44s\n",
      "510:\ttotal: 1m 38s\tremaining: 4.25s\n",
      "511:\ttotal: 1m 38s\tremaining: 4.06s\n",
      "512:\ttotal: 1m 39s\tremaining: 3.86s\n",
      "513:\ttotal: 1m 39s\tremaining: 3.67s\n",
      "514:\ttotal: 1m 39s\tremaining: 3.48s\n",
      "515:\ttotal: 1m 39s\tremaining: 3.28s\n",
      "516:\ttotal: 1m 39s\tremaining: 3.09s\n",
      "517:\ttotal: 1m 39s\tremaining: 2.89s\n",
      "518:\ttotal: 1m 40s\tremaining: 2.7s\n",
      "519:\ttotal: 1m 40s\tremaining: 2.51s\n",
      "520:\ttotal: 1m 40s\tremaining: 2.31s\n",
      "521:\ttotal: 1m 40s\tremaining: 2.12s\n",
      "522:\ttotal: 1m 40s\tremaining: 1.93s\n",
      "523:\ttotal: 1m 40s\tremaining: 1.73s\n",
      "524:\ttotal: 1m 41s\tremaining: 1.54s\n",
      "525:\ttotal: 1m 41s\tremaining: 1.35s\n",
      "526:\ttotal: 1m 41s\tremaining: 1.16s\n",
      "527:\ttotal: 1m 41s\tremaining: 963ms\n",
      "528:\ttotal: 1m 41s\tremaining: 770ms\n",
      "529:\ttotal: 1m 42s\tremaining: 577ms\n",
      "530:\ttotal: 1m 42s\tremaining: 385ms\n",
      "531:\ttotal: 1m 42s\tremaining: 192ms\n",
      "532:\ttotal: 1m 42s\tremaining: 0us\n"
     ]
    },
    {
     "data": {
      "text/plain": [
       "<catboost.core.CatBoostClassifier at 0x16c0567ee00>"
      ]
     },
     "execution_count": 39,
     "metadata": {},
     "output_type": "execute_result"
    }
   ],
   "source": [
    "model = CatBoostClassifier(**catboost_params)\n",
    "model.fit(train_pool)"
   ]
  },
  {
   "cell_type": "code",
   "execution_count": 40,
   "metadata": {
    "id": "DuvfilmfStp_"
   },
   "outputs": [],
   "source": [
    "y_test_pred = model.predict(X_test)"
   ]
  },
  {
   "cell_type": "code",
   "execution_count": 41,
   "metadata": {
    "id": "0bQKAPQwTQ29"
   },
   "outputs": [],
   "source": [
    "y_test_df_pred = model.predict(test_df)"
   ]
  },
  {
   "cell_type": "code",
   "execution_count": 43,
   "metadata": {
    "id": "ketOwzb0TXoz"
   },
   "outputs": [],
   "source": [
    "from sklearn.metrics import accuracy_score, classification_report, confusion_matrix\n",
    "from sklearn.metrics import accuracy_score, precision_score, recall_score, f1_score, roc_auc_score\n",
    "def score(y_test,y_pred):\n",
    "    accuracy = accuracy_score(y_test, y_pred)\n",
    "    precision = precision_score(y_test, y_pred, average='macro')\n",
    "    recall = recall_score(y_test, y_pred, average='macro')\n",
    "    f1 = f1_score(y_test, y_pred, average='macro')\n",
    "    # roc_auc = roc_auc_score(y_test, rf.predict_proba(test_df), multi_class='ovr')\n",
    "\n",
    "    print(\"Accuracy:\", accuracy)\n",
    "    print(\"Precision:\", precision)\n",
    "    print(\"Recall:\", recall)\n",
    "    print(\"F1-score:\", f1)\n",
    "    # print(\"ROC-AUC:\", roc_auc)"
   ]
  },
  {
   "cell_type": "code",
   "execution_count": 44,
   "metadata": {
    "colab": {
     "base_uri": "https://localhost:8080/"
    },
    "id": "VEWj5DFDTrRZ",
    "outputId": "80428350-5f9c-48ed-a1e9-408274f036b0"
   },
   "outputs": [
    {
     "name": "stdout",
     "output_type": "stream",
     "text": [
      "Accuracy: 0.9531076818143064\n",
      "Precision: 0.933107806073512\n",
      "Recall: 0.8672902331334944\n",
      "F1-score: 0.8962451953320365\n"
     ]
    }
   ],
   "source": [
    "score(y_test ,y_test_pred)"
   ]
  },
  {
   "cell_type": "code",
   "execution_count": 45,
   "metadata": {
    "colab": {
     "base_uri": "https://localhost:8080/"
    },
    "id": "Gyxa9mqjTz0w",
    "outputId": "12cfd359-b978-4d45-a5f8-4fa2568d7da0"
   },
   "outputs": [
    {
     "data": {
      "text/plain": [
       "0.8672902331334944"
      ]
     },
     "execution_count": 45,
     "metadata": {},
     "output_type": "execute_result"
    }
   ],
   "source": [
    "roc_auc = roc_auc_score(y_test, y_test_pred, multi_class='ovr')\n",
    "roc_auc"
   ]
  },
  {
   "cell_type": "code",
   "execution_count": 46,
   "metadata": {
    "id": "9m2WyNozWyal"
   },
   "outputs": [],
   "source": [
    "import matplotlib.pyplot as plt\n",
    "import seaborn as sns"
   ]
  },
  {
   "cell_type": "code",
   "execution_count": 47,
   "metadata": {
    "colab": {
     "base_uri": "https://localhost:8080/",
     "height": 616
    },
    "id": "9TtCcndcVEWx",
    "outputId": "295c6b0a-1899-4231-85d1-1ebc0e2c2934"
   },
   "outputs": [
    {
     "name": "stdout",
     "output_type": "stream",
     "text": [
      "Confusion Matrix:\n",
      "[[9931  128]\n",
      " [ 422 1248]]\n"
     ]
    },
    {
     "data": {
      "image/png": "[encoded data removed]",
      "text/plain": [
       "<Figure size 800x600 with 2 Axes>"
      ]
     },
     "metadata": {},
     "output_type": "display_data"
    }
   ],
   "source": [
    "cm = confusion_matrix(y_test, y_test_pred)\n",
    "\n",
    "# Print the confusion matrix\n",
    "print(\"Confusion Matrix:\")\n",
    "print(cm)\n",
    "\n",
    "plt.figure(figsize=(8, 6))\n",
    "sns.heatmap(cm, annot=True, fmt='d', cmap='Blues')\n",
    "plt.xlabel(\"Predicted labels\")\n",
    "plt.ylabel(\"Actual labels\")\n",
    "plt.title(\"Confusion Matrix\")\n",
    "plt.show()"
   ]
  },
  {
   "cell_type": "code",
   "execution_count": 48,
   "metadata": {
    "colab": {
     "base_uri": "https://localhost:8080/",
     "height": 564
    },
    "id": "tOSM0oHuXCxy",
    "outputId": "5fca39f2-420d-4358-e898-bfd6a72f640f"
   },
   "outputs": [
    {
     "data": {
      "image/png": "[encoded data removed]",
      "text/plain": [
       "<Figure size 1000x600 with 1 Axes>"
      ]
     },
     "metadata": {},
     "output_type": "display_data"
    }
   ],
   "source": [
    "from sklearn.metrics import roc_curve, auc\n",
    "fpr_lgbm, tpr_lgbm, _ = roc_curve(y_test, y_test_pred)\n",
    "cat_auc = auc(fpr_lgbm, tpr_lgbm)\n",
    "\n",
    "# fpr_catboost, tpr_catboost, _ = roc_curve(catboost_true_labels, catboost_predictions)\n",
    "# roc_auc_catboost = auc(fpr_catboost, tpr_catboost)\n",
    "\n",
    "plt.figure(figsize=(10, 6))\n",
    "plt.plot(fpr_lgbm, tpr_lgbm, color='blue', lw=2, label=f'Lcatboost  ROC Curve (AUC = {cat_auc:.4f})')\n",
    "# plt.plot(fpr_catboost, tpr_catboost, color='green', lw=2, label=f'CatBoost ROC Curve (AUC = {roc_auc_catboost:.4f})')\n",
    "plt.plot([0, 1], [0, 1], color='red', linestyle='--')\n",
    "plt.xlim([0.0, 1.0])\n",
    "plt.ylim([0.0, 1.05])\n",
    "plt.xlabel('False Positive Rate')\n",
    "plt.ylabel('True Positive Rate')\n",
    "plt.title('Receiver Operating Characteristic (ROC) Curves')\n",
    "plt.legend(loc='lower right')\n",
    "plt.grid(True)\n",
    "plt.show()"
   ]
  },
  {
   "cell_type": "code",
   "execution_count": 49,
   "metadata": {
    "colab": {
     "base_uri": "https://localhost:8080/"
    },
    "id": "P150vjy-YJqq",
    "outputId": "d708623f-672a-4e1b-b0a9-39444e80c2db"
   },
   "outputs": [
    {
     "name": "stdout",
     "output_type": "stream",
     "text": [
      "Training on fold [0/5]\n",
      "0:\tlearn: 0.9011510\ttest: 0.9035592\tbest: 0.9035592 (0)\ttotal: 129ms\tremaining: 12.8s\n",
      "99:\tlearn: 0.9527070\ttest: 0.9520460\tbest: 0.9522592 (95)\ttotal: 7.8s\tremaining: 0us\n",
      "\n",
      "bestTest = 0.9522591645\n",
      "bestIteration = 95\n",
      "\n",
      "Training on fold [1/5]\n",
      "0:\tlearn: 0.9052034\ttest: 0.8958755\tbest: 0.8958755 (0)\ttotal: 216ms\tremaining: 21.4s\n",
      "99:\tlearn: 0.9531346\ttest: 0.9525738\tbest: 0.9526804 (97)\ttotal: 7.02s\tremaining: 0us\n",
      "\n",
      "bestTest = 0.9526803794\n",
      "bestIteration = 97\n",
      "\n",
      "Training on fold [2/5]\n",
      "0:\tlearn: 0.9008339\ttest: 0.9046147\tbest: 0.9046147 (0)\ttotal: 77.9ms\tremaining: 7.72s\n",
      "99:\tlearn: 0.9524685\ttest: 0.9536396\tbest: 0.9536396 (94)\ttotal: 8.19s\tremaining: 0us\n",
      "\n",
      "bestTest = 0.9536395609\n",
      "bestIteration = 94\n",
      "\n",
      "Training on fold [3/5]\n",
      "0:\tlearn: 0.9003011\ttest: 0.8987531\tbest: 0.8987531 (0)\ttotal: 63.6ms\tremaining: 6.3s\n",
      "99:\tlearn: 0.9536674\ttest: 0.9493765\tbest: 0.9496963 (95)\ttotal: 6.9s\tremaining: 0us\n",
      "\n",
      "bestTest = 0.9496962592\n",
      "bestIteration = 95\n",
      "\n",
      "Training on fold [4/5]\n",
      "0:\tlearn: 0.8935603\ttest: 0.8943835\tbest: 0.8943835 (0)\ttotal: 80.3ms\tremaining: 7.95s\n",
      "99:\tlearn: 0.9539072\ttest: 0.9506554\tbest: 0.9506554 (91)\ttotal: 6.23s\tremaining: 0us\n",
      "\n",
      "bestTest = 0.9506554407\n",
      "bestIteration = 91\n",
      "\n"
     ]
    }
   ],
   "source": [
    "scores = cv(params={\n",
    "        'loss_function': 'Logloss',  # Specify the loss function\n",
    "        'iterations': 100,\n",
    "        'depth': 6,\n",
    "        'learning_rate': 0.1,\n",
    "        'eval_metric': 'Accuracy',\n",
    "        'random_state': 42,\n",
    "        'verbose': 100\n",
    "    },\n",
    "    pool=train_pool,\n",
    "    fold_count=5,\n",
    "    shuffle=True,\n",
    "    verbose=100\n",
    ")"
   ]
  },
  {
   "cell_type": "code",
   "execution_count": 50,
   "metadata": {
    "colab": {
     "base_uri": "https://localhost:8080/",
     "height": 366
    },
    "id": "vF_oNj6lbbpU",
    "outputId": "1702c526-5499-4a4d-8f24-06f7ad6b7a8b"
   },
   "outputs": [
    {
     "data": {
      "text/plain": [
       "iterations             49.500000\n",
       "test-Accuracy-mean      0.942272\n",
       "test-Accuracy-std       0.002128\n",
       "train-Accuracy-mean     0.944063\n",
       "train-Accuracy-std      0.000990\n",
       "test-Logloss-mean       0.200661\n",
       "test-Logloss-std        0.002326\n",
       "train-Logloss-mean      0.196527\n",
       "train-Logloss-std       0.001650\n",
       "dtype: float64"
      ]
     },
     "execution_count": 50,
     "metadata": {},
     "output_type": "execute_result"
    }
   ],
   "source": [
    "scores.mean()"
   ]
  },
  {
   "cell_type": "code",
   "execution_count": 51,
   "metadata": {
    "id": "AvXlUJccbV4N"
   },
   "outputs": [],
   "source": [
    "import pickle\n",
    "with open(\"CB_classifier.pkl\", \"wb\") as f:\n",
    "    pickle.dump(model, f)"
   ]
  },
  {
   "cell_type": "markdown",
   "metadata": {},
   "source": [
    "# handling imbalanced dataset\n"
   ]
  },
  {
   "cell_type": "code",
   "execution_count": 2,
   "metadata": {},
   "outputs": [],
   "source": [
    "import matplotlib.pyplot as plt\n",
    "import seaborn as sns\n",
    "import numpy as np"
   ]
  },
  {
   "cell_type": "code",
   "execution_count": null,
   "metadata": {},
   "outputs": [
    {
     "data": {
      "text/plain": [
       "array([50295,  8350], dtype=int64)"
      ]
     },
     "execution_count": 18,
     "metadata": {},
     "output_type": "execute_result"
    }
   ],
   "source": [
    "b = np.bincount(y)\n",
    "b_train = np.bincount(y_train)"
   ]
  },
  {
   "cell_type": "code",
   "execution_count": 19,
   "metadata": {},
   "outputs": [],
   "source": [
    "tot = len(y)\n",
    "tot_train = len(y)"
   ]
  },
  {
   "cell_type": "code",
   "execution_count": 22,
   "metadata": {},
   "outputs": [
    {
     "data": {
      "text/plain": [
       "{0: 0.72876279948305, 1: 4.389595808383233}"
      ]
     },
     "execution_count": 22,
     "metadata": {},
     "output_type": "execute_result"
    }
   ],
   "source": [
    "class_weights = {i: tot_train / (len(b_train) * b_train[i]) for i in range(len(b_train))}\n",
    "class_weights"
   ]
  },
  {
   "cell_type": "code",
   "execution_count": null,
   "metadata": {},
   "outputs": [],
   "source": []
  }
 ],
 "metadata": {
  "accelerator": "GPU",
  "colab": {
   "gpuType": "T4",
   "provenance": []
  },
  "kernelspec": {
   "display_name": "Python 3",
   "name": "python3"
  },
  "language_info": {
   "codemirror_mode": {
    "name": "ipython",
    "version": 3
   },
   "file_extension": ".py",
   "mimetype": "text/x-python",
   "name": "python",
   "nbconvert_exporter": "python",
   "pygments_lexer": "ipython3",
   "version": "3.10.10"
  }
 },
 "nbformat": 4,
 "nbformat_minor": 0
}
